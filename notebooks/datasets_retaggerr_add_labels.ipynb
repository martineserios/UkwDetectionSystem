{
 "cells": [
  {
   "cell_type": "code",
   "execution_count": null,
   "metadata": {},
   "outputs": [],
   "source": [
    "%load_ext autoreload\n",
    "%autoreload 2\n",
    "%load_ext dotenv\n",
    "%dotenv\n",
    "\n",
    "import os\n",
    "import random\n",
    "random.seed(42)\n",
    "from pathlib import Path\n",
    "\n",
    "from data_handling.datasets import map_yaml_positions_and_add_new_labels, replace_category, get_labels_from_txt_files"
   ]
  },
  {
   "cell_type": "code",
   "execution_count": null,
   "metadata": {},
   "outputs": [],
   "source": [
    "# variables\n",
    "DATASETS_PATH = Path('/home/martin/Projects/ongoing/ukw/ukw_detection_system/data/base/v2_3_partes/taggeadas')\n",
    "ORIGINAL_DATASET_PATH = DATASETS_PATH / '0_mariano_parcial_4300_more_labels'\n",
    "ORIGINAL_DATASET_PATH_YAML_FILE = str(ORIGINAL_DATASET_PATH / 'data.yaml')\n",
    "\n",
    "NEW_DATASET_PATH = DATASETS_PATH / '3_martin_parcial_1800'\n",
    "NEW_DATASET_PATH_YAML_FILE = str(NEW_DATASET_PATH / 'data.yaml')\n",
    "\n",
    "SET_TYPES = [\"test\", \"train\", \"valid\"]\n",
    "\n",
    "NEW_LABEL_MAP_CATEGS = {\n",
    "    \"Humo-0.5\": \"Smoke-1\",\n",
    "    \"Humo-2.5\": \"Smoke-2\" \n",
    "}"
   ]
  },
  {
   "cell_type": "code",
   "execution_count": null,
   "metadata": {},
   "outputs": [],
   "source": [
    "new_label_map = map_yaml_positions_and_add_new_labels(NEW_DATASET_PATH_YAML_FILE, ORIGINAL_DATASET_PATH_YAML_FILE)\n",
    "new_label_map"
   ]
  },
  {
   "cell_type": "code",
   "execution_count": null,
   "metadata": {},
   "outputs": [],
   "source": [
    "for set in SET_TYPES:\n",
    "    for file_name in os.listdir(NEW_DATASET_PATH / set / 'labels'):\n",
    "        file_dir = NEW_DATASET_PATH / set / 'labels' / file_name\n",
    "        replace_category(file_dir, new_label_map)"
   ]
  },
  {
   "cell_type": "code",
   "execution_count": null,
   "metadata": {},
   "outputs": [],
   "source": [
    "get_labels_from_txt_files(ORIGINAL_DATASET_PATH)"
   ]
  },
  {
   "cell_type": "code",
   "execution_count": null,
   "metadata": {},
   "outputs": [],
   "source": []
  }
 ],
 "metadata": {
  "kernelspec": {
   "display_name": ".venv",
   "language": "python",
   "name": "python3"
  },
  "language_info": {
   "codemirror_mode": {
    "name": "ipython",
    "version": 3
   },
   "file_extension": ".py",
   "mimetype": "text/x-python",
   "name": "python",
   "nbconvert_exporter": "python",
   "pygments_lexer": "ipython3",
   "version": "3.10.12"
  }
 },
 "nbformat": 4,
 "nbformat_minor": 2
}
