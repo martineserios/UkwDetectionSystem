{
 "cells": [
  {
   "cell_type": "code",
   "execution_count": 2,
   "metadata": {},
   "outputs": [],
   "source": [
    "%load_ext autoreload\n",
    "%autoreload 2\n",
    "%load_ext dotenv    \n",
    "%dotenv\n",
    "\n",
    "import os\n",
    "import random\n",
    "random.seed(42)\n",
    "from pathlib import Path\n",
    "\n",
    "from data_handling.yolov5_dataset_class_merger import convert\n",
    "from data_handling.datasets import get_labels_from_txt_files"
   ]
  },
  {
   "cell_type": "code",
   "execution_count": 5,
   "metadata": {},
   "outputs": [],
   "source": [
    "# variables\n",
    "DATASETS_PATH = Path('/home/martin/Projects/ongoing/ukw/ukw_detection_system/data/base/retag_julio_9_11_labels/')\n",
    "ORIGINAL_DATASET_PATH = DATASETS_PATH / '7_union_0_5_6__v4'\n",
    "ORIGINAL_DATASET_PATH_YAML_FILE = ORIGINAL_DATASET_PATH / 'data.yaml'\n",
    "\n",
    "NEW_DATASET_PATH = DATASETS_PATH / '9_firesmokeAB'\n",
    "# NEW_DATASET_PATH_YAML_FILE = ORIGINAL_DATASET_PATH / 'data.yaml'\n",
    "\n",
    "SET_TYPES = [\"test\", \"train\", \"valid\"]\n",
    "\n",
    "NEW_LABEL_MAP_CATEGS = {\n",
    "    'Fire-D': 'Fire',\n",
    "    'Fire-N': 'Fire',\n",
    "    'Humo-0.5': 'Smoke-A',\n",
    "    'Humo-2.5': 'Smoke-B',\n",
    "    'Smoke-0': 'Smoke-A',\n",
    "    'Smoke-1': 'Smoke-A',\n",
    "    'Smoke-2': 'Smoke-B',\n",
    "    # 'Smoke-3': 'Smoke-B',\n",
    "    'Smoke-C1': 'Smoke-A',\n",
    "    # 'Smoke-C2': 'Smoke-B',\n",
    "    # 'Smoke-N': 'Smoke-A',\n",
    "}\n",
    "\n",
    "CLASSES_TO_DELETE = ['Smoke-3', 'Smoke-C2', 'Smoke-N']"
   ]
  },
  {
   "cell_type": "code",
   "execution_count": 7,
   "metadata": {},
   "outputs": [
    {
     "name": "stdout",
     "output_type": "stream",
     "text": [
      "data folders: ['train', 'valid', 'test']\n",
      "original names: ['Fire-D', 'Fire-N', 'Humo-0.5', 'Humo-2.5', 'Smoke-0', 'Smoke-1', 'Smoke-2', 'Smoke-C1']\n",
      "original mapping: {'Fire-D': '0', 'Fire-N': '1', 'Humo-0.5': '2', 'Humo-2.5': '3', 'Smoke-0': '4', 'Smoke-1': '5', 'Smoke-2': '6', 'Smoke-C1': '7'}\n",
      "name mapping: {'Fire-D': 'Fire', 'Fire-N': 'Fire', 'Humo-0.5': 'Smoke-A', 'Humo-2.5': 'Smoke-B', 'Smoke-0': 'Smoke-A', 'Smoke-1': 'Smoke-A', 'Smoke-2': 'Smoke-B', 'Smoke-C1': 'Smoke-A'}\n",
      "classes to delete: ['Smoke-3', 'Smoke-C2', 'Smoke-N']\n",
      "new names: ['Fire', 'Smoke-A', 'Smoke-B']\n",
      "new mapping: {'Fire': '0', 'Smoke-A': '1', 'Smoke-B': '2'}\n",
      "old index to new index: {'0': '0', '1': '0', '2': '1', '3': '2', '4': '1', '5': '1', '6': '2', '7': '1'}\n",
      "converting train\n",
      "copying images...\n"
     ]
    },
    {
     "name": "stderr",
     "output_type": "stream",
     "text": [
      "100%|██████████| 9832/9832 [00:03<00:00, 3156.97it/s]\n"
     ]
    },
    {
     "name": "stdout",
     "output_type": "stream",
     "text": [
      "converting labels...\n"
     ]
    },
    {
     "name": "stderr",
     "output_type": "stream",
     "text": [
      "100%|██████████| 9832/9832 [00:00<00:00, 11362.55it/s]\n"
     ]
    },
    {
     "name": "stdout",
     "output_type": "stream",
     "text": [
      "done converting train\n",
      "converting valid\n",
      "copying images...\n"
     ]
    },
    {
     "name": "stderr",
     "output_type": "stream",
     "text": [
      "100%|██████████| 2812/2812 [00:00<00:00, 2851.31it/s]\n"
     ]
    },
    {
     "name": "stdout",
     "output_type": "stream",
     "text": [
      "converting labels...\n"
     ]
    },
    {
     "name": "stderr",
     "output_type": "stream",
     "text": [
      "100%|██████████| 2812/2812 [00:00<00:00, 10686.78it/s]\n"
     ]
    },
    {
     "name": "stdout",
     "output_type": "stream",
     "text": [
      "done converting valid\n",
      "converting test\n",
      "copying images...\n"
     ]
    },
    {
     "name": "stderr",
     "output_type": "stream",
     "text": [
      "100%|██████████| 851/851 [00:00<00:00, 2981.63it/s]\n"
     ]
    },
    {
     "name": "stdout",
     "output_type": "stream",
     "text": [
      "converting labels...\n"
     ]
    },
    {
     "name": "stderr",
     "output_type": "stream",
     "text": [
      "100%|██████████| 851/851 [00:00<00:00, 11885.09it/s]"
     ]
    },
    {
     "name": "stdout",
     "output_type": "stream",
     "text": [
      "done converting test\n",
      "writing data.yaml\n",
      "done converting dataset in 5.714016675949097 seconds\n"
     ]
    },
    {
     "name": "stderr",
     "output_type": "stream",
     "text": [
      "\n"
     ]
    }
   ],
   "source": [
    "convert(\n",
    "    ORIGINAL_DATASET_PATH,\n",
    "    NEW_DATASET_PATH,\n",
    "    list(NEW_LABEL_MAP_CATEGS.keys()),\n",
    "    NEW_LABEL_MAP_CATEGS,\n",
    "    CLASSES_TO_DELETE\n",
    ")"
   ]
  },
  {
   "cell_type": "code",
   "execution_count": 8,
   "metadata": {},
   "outputs": [
    {
     "data": {
      "text/plain": [
       "{'0', '1', '2'}"
      ]
     },
     "execution_count": 8,
     "metadata": {},
     "output_type": "execute_result"
    }
   ],
   "source": [
    "get_labels_from_txt_files(NEW_DATASET_PATH)"
   ]
  },
  {
   "cell_type": "code",
   "execution_count": null,
   "metadata": {},
   "outputs": [],
   "source": []
  }
 ],
 "metadata": {
  "kernelspec": {
   "display_name": ".venv",
   "language": "python",
   "name": "python3"
  },
  "language_info": {
   "codemirror_mode": {
    "name": "ipython",
    "version": 3
   },
   "file_extension": ".py",
   "mimetype": "text/x-python",
   "name": "python",
   "nbconvert_exporter": "python",
   "pygments_lexer": "ipython3",
   "version": "3.10.12"
  }
 },
 "nbformat": 4,
 "nbformat_minor": 2
}
