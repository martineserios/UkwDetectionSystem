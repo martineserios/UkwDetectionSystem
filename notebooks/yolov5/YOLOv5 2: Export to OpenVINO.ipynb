{
 "cells": [
  {
   "cell_type": "markdown",
   "metadata": {},
   "source": [
    "# YOLOv5 3: Export to ONNX"
   ]
  },
  {
   "cell_type": "code",
   "execution_count": 1,
   "metadata": {},
   "outputs": [],
   "source": [
    "%load_ext autoreload\n",
    "%autoreload 2\n",
    "\n",
    "import os\n",
    "import glob as glob\n",
    "import matplotlib.pyplot as plt\n",
    "import numpy as np\n",
    "import torch\n",
    "import cv2\n",
    "\n",
    "np.random.seed(42)"
   ]
  },
  {
   "cell_type": "code",
   "execution_count": 4,
   "metadata": {},
   "outputs": [
    {
     "data": {
      "text/plain": [
       "'/home/martin/Projects/ongoing/ukw/ukw/wildfire-detector/model/yolov5_freeze_ds_fire_3_pre/best_openvino_model/'"
      ]
     },
     "execution_count": 4,
     "metadata": {},
     "output_type": "execute_result"
    }
   ],
   "source": [
    "PRETRAINED_MODEL_LOCATION = '/home/martin/Projects/ongoing/ukw/wildfire_detection_system/trained_models/full/yolov5m_v1/weights/best.pt'\n",
    "NEW_ONNX_MODEL_LOCATION = '/'.join(PRETRAINED_MODEL_LOCATION.split('/')[:-1]) + '/best_openvino_model/'\n",
    "\n",
    "NEW_ONNX_MODEL_LOCATION"
   ]
  },
  {
   "cell_type": "code",
   "execution_count": 5,
   "metadata": {},
   "outputs": [
    {
     "name": "stdout",
     "output_type": "stream",
     "text": [
      "^C\n",
      "Traceback (most recent call last):\n",
      "  File \"/home/martin/Projects/ongoing/ukw/ukw/wildfire-detector/notebooks/yolov5/yolov5/export.py\", line 71, in <module>\n",
      "    from models.yolo import ClassificationModel, Detect, DetectionModel, SegmentationModel\n",
      "  File \"/home/martin/Projects/ongoing/ukw/ukw/wildfire-detector/notebooks/yolov5/yolov5/models/yolo.py\", line 28, in <module>\n",
      "    from models.common import (\n",
      "  File \"/home/martin/Projects/ongoing/ukw/ukw/wildfire-detector/notebooks/yolov5/yolov5/models/common.py\", line 27, in <module>\n",
      "    import ultralytics\n",
      "  File \"/home/martin/Projects/ongoing/ukw/ukw/wildfire-detector/.venv/lib/python3.10/site-packages/ultralytics/__init__.py\", line 5, in <module>\n",
      "    from ultralytics.data.explorer.explorer import Explorer\n",
      "  File \"/home/martin/Projects/ongoing/ukw/ukw/wildfire-detector/.venv/lib/python3.10/site-packages/ultralytics/data/__init__.py\", line 3, in <module>\n",
      "    from .base import BaseDataset\n",
      "  File \"/home/martin/Projects/ongoing/ukw/ukw/wildfire-detector/.venv/lib/python3.10/site-packages/ultralytics/data/base.py\", line 17, in <module>\n",
      "    from ultralytics.data.utils import FORMATS_HELP_MSG, HELP_URL, IMG_FORMATS\n",
      "  File \"/home/martin/Projects/ongoing/ukw/ukw/wildfire-detector/.venv/lib/python3.10/site-packages/ultralytics/data/utils.py\", line 19, in <module>\n",
      "    from ultralytics.nn.autobackend import check_class_names\n",
      "  File \"/home/martin/Projects/ongoing/ukw/ukw/wildfire-detector/.venv/lib/python3.10/site-packages/ultralytics/nn/__init__.py\", line 3, in <module>\n",
      "    from .tasks import (\n",
      "  File \"/home/martin/Projects/ongoing/ukw/ukw/wildfire-detector/.venv/lib/python3.10/site-packages/ultralytics/nn/tasks.py\", line 10, in <module>\n",
      "    from ultralytics.nn.modules import (\n",
      "  File \"/home/martin/Projects/ongoing/ukw/ukw/wildfire-detector/.venv/lib/python3.10/site-packages/ultralytics/nn/modules/__init__.py\", line 65, in <module>\n",
      "    from .head import OBB, Classify, Detect, Pose, RTDETRDecoder, Segment, WorldDetect\n",
      "  File \"/home/martin/Projects/ongoing/ukw/ukw/wildfire-detector/.venv/lib/python3.10/site-packages/ultralytics/nn/modules/head.py\", line 10, in <module>\n",
      "    from ultralytics.utils.tal import TORCH_1_10, dist2bbox, dist2rbox, make_anchors\n",
      "  File \"/home/martin/Projects/ongoing/ukw/ukw/wildfire-detector/.venv/lib/python3.10/site-packages/ultralytics/utils/__init__.py\", line 21, in <module>\n",
      "    import matplotlib.pyplot as plt\n",
      "  File \"/home/martin/Projects/ongoing/ukw/ukw/wildfire-detector/.venv/lib/python3.10/site-packages/matplotlib/pyplot.py\", line 56, in <module>\n",
      "    import matplotlib.colorbar\n",
      "  File \"/home/martin/Projects/ongoing/ukw/ukw/wildfire-detector/.venv/lib/python3.10/site-packages/matplotlib/colorbar.py\", line 19, in <module>\n",
      "    from matplotlib import _api, cbook, collections, cm, colors, contour, ticker\n",
      "  File \"/home/martin/Projects/ongoing/ukw/ukw/wildfire-detector/.venv/lib/python3.10/site-packages/matplotlib/collections.py\", line 20, in <module>\n",
      "    from . import (_api, _path, artist, cbook, cm, colors as mcolors, _docstring,\n",
      "  File \"/home/martin/Projects/ongoing/ukw/ukw/wildfire-detector/.venv/lib/python3.10/site-packages/matplotlib/lines.py\", line 229, in <module>\n",
      "    class Line2D(Artist):\n",
      "  File \"/home/martin/Projects/ongoing/ukw/ukw/wildfire-detector/.venv/lib/python3.10/site-packages/matplotlib/artist.py\", line 150, in __init_subclass__\n",
      "    cls._update_set_signature_and_docstring()\n",
      "  File \"/home/martin/Projects/ongoing/ukw/ukw/wildfire-detector/.venv/lib/python3.10/site-packages/matplotlib/artist.py\", line 178, in _update_set_signature_and_docstring\n",
      "    + kwdoc(cls))\n",
      "  File \"/home/martin/Projects/ongoing/ukw/ukw/wildfire-detector/.venv/lib/python3.10/site-packages/matplotlib/artist.py\", line 1856, in kwdoc\n",
      "    'Properties:\\n' + '\\n'.join(ai.pprint_setters(leadingspace=4)))\n",
      "  File \"/home/martin/Projects/ongoing/ukw/ukw/wildfire-detector/.venv/lib/python3.10/site-packages/matplotlib/artist.py\", line 1617, in pprint_setters\n",
      "    accepts = self.get_valid_values(prop)\n",
      "  File \"/home/martin/Projects/ongoing/ukw/ukw/wildfire-detector/.venv/lib/python3.10/site-packages/matplotlib/artist.py\", line 1500, in get_valid_values\n",
      "    match = re.search(fr\"(?m)^ *\\*?{param_name} : (.+)\", docstring)\n",
      "  File \"/usr/lib/python3.10/re.py\", line 200, in search\n",
      "    return _compile(pattern, flags).search(string)\n",
      "  File \"/usr/lib/python3.10/re.py\", line 303, in _compile\n",
      "    p = sre_compile.compile(pattern, flags)\n",
      "  File \"/usr/lib/python3.10/sre_compile.py\", line 792, in compile\n",
      "    code = _code(p, flags)\n",
      "  File \"/usr/lib/python3.10/sre_compile.py\", line 631, in _code\n",
      "    _compile(code, p.data, flags)\n",
      "  File \"/usr/lib/python3.10/sre_compile.py\", line 109, in _compile\n",
      "    emit(op)\n",
      "KeyboardInterrupt\n"
     ]
    }
   ],
   "source": [
    "# Clone YOLOV5 Repository\n",
    "if not os.path.exists('yolov5'):\n",
    "    !git clone https://github.com/ultralytics/yolov5.git\n",
    "\n",
    "# Export to onnx\n",
    "!python3 yolov5/export.py --weights {PRETRAINED_MODEL_LOCATION} --include openvino"
   ]
  },
  {
   "cell_type": "code",
   "execution_count": 6,
   "metadata": {},
   "outputs": [
    {
     "name": "stderr",
     "output_type": "stream",
     "text": [
      "Using cache found in /home/martin/.cache/torch/hub/ultralytics_yolov5_master\n",
      "YOLOv5 🚀 2024-5-4 Python-3.10.12 torch-2.2.2+cu121 CPU\n",
      "\n",
      "Loading /home/martin/Projects/ongoing/ukw/ukw/wildfire-detector/model/yolov5_freeze_ds_fire_3_pre/best_openvino_model for OpenVINO inference...\n",
      "Adding AutoShape... \n",
      "Using cache found in /home/martin/.cache/torch/hub/ultralytics_yolov5_master\n",
      "YOLOv5 🚀 2024-5-4 Python-3.10.12 torch-2.2.2+cu121 CPU\n",
      "\n",
      "Loading /home/martin/Projects/ongoing/ukw/ukw/wildfire-detector/model/yolov5_freeze_ds_fire_3_pre/best_openvino_model for OpenVINO inference...\n",
      "Adding AutoShape... \n"
     ]
    }
   ],
   "source": [
    "model = torch.hub.load('ultralytics/yolov5', 'custom', NEW_ONNX_MODEL_LOCATION) \n",
    "model = torch.hub.load('ultralytics/yolov5', 'custom', NEW_ONNX_MODEL_LOCATION) "
   ]
  },
  {
   "cell_type": "code",
   "execution_count": 10,
   "metadata": {},
   "outputs": [],
   "source": [
    "TEST_IMAGE_LOCATION = '/home/martin/Projects/ongoing/ukw/data/test_images/test_def.jpeg'\n",
    "# Load test iamge\n",
    "img0 = cv2.imread(TEST_IMAGE_LOCATION)\n",
    "image = cv2.resize(img0, (640, 640))\n",
    "# image_bchw = np.transpose(np.expand_dims(image, 0), (0, 3, 1, 2))"
   ]
  },
  {
   "cell_type": "code",
   "execution_count": 11,
   "metadata": {},
   "outputs": [
    {
     "data": {
      "text/plain": [
       "YOLOv5 <class 'models.common.Detections'> instance\n",
       "image 1/1: 640x640 (no detections)\n",
       "Speed: 5.9ms pre-process, 183.7ms inference, 0.8ms NMS per image at shape (1, 3, 640, 640)"
      ]
     },
     "execution_count": 11,
     "metadata": {},
     "output_type": "execute_result"
    }
   ],
   "source": [
    "# Prediction\n",
    "model(image)"
   ]
  },
  {
   "cell_type": "code",
   "execution_count": null,
   "metadata": {},
   "outputs": [],
   "source": []
  }
 ],
 "metadata": {
  "kernelspec": {
   "display_name": ".venv",
   "language": "python",
   "name": "python3"
  },
  "language_info": {
   "codemirror_mode": {
    "name": "ipython",
    "version": 3
   },
   "file_extension": ".py",
   "mimetype": "text/x-python",
   "name": "python",
   "nbconvert_exporter": "python",
   "pygments_lexer": "ipython3",
   "version": "3.10.12"
  }
 },
 "nbformat": 4,
 "nbformat_minor": 2
}
