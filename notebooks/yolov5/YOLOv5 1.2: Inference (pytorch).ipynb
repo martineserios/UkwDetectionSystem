{
 "cells": [
  {
   "cell_type": "code",
   "execution_count": 1,
   "metadata": {},
   "outputs": [],
   "source": [
    "import glob as glob\n",
    "import matplotlib.pyplot as plt\n",
    "import cv2\n",
    "import numpy as np\n",
    "import torch\n",
    "from PIL import Image\n",
    "\n",
    "\n",
    "np.random.seed(42)"
   ]
  },
  {
   "cell_type": "code",
   "execution_count": 2,
   "metadata": {},
   "outputs": [],
   "source": [
    "# Define some parameters\n",
    "TRAIN = True\n",
    "EPOCHS = 1\n",
    "BATCH_SIZE = 32\n",
    "class_names = ['smoke','fire']\n",
    "colors = np.random.uniform(0, 255, size=(len(class_names), 3))\n",
    "\n",
    "PRETRAINED_MODEL_LOCATION = '/home/martin/Projects/ongoing/ukw/wildfire_detection_system/trained_models/full/v1/weights/best.pt'\n",
    "TEST_IMAGE_LOCATION = '/home/martin/Projects/ongoing/ukw/data/test_images/test_def.jpeg'"
   ]
  },
  {
   "cell_type": "code",
   "execution_count": 3,
   "metadata": {},
   "outputs": [
    {
     "name": "stderr",
     "output_type": "stream",
     "text": [
      "Using cache found in /home/martin/.cache/torch/hub/ultralytics_yolov5_master\n",
      "YOLOv5 🚀 2024-5-9 Python-3.10.12 torch-2.2.2+cu121 CPU\n",
      "\n",
      "Fusing layers... \n",
      "Model summary: 157 layers, 7015519 parameters, 0 gradients, 15.8 GFLOPs\n",
      "Adding AutoShape... \n",
      "image 1/2: 720x1280 2 fires\n",
      "image 2/2: 720x1280 2 fires\n",
      "Speed: 21.4ms pre-process, 151.7ms inference, 1.6ms NMS per image at shape (2, 3, 384, 640)\n",
      "Saved 2 images to \u001b[1mruns/detect/exp4\u001b[0m\n"
     ]
    },
    {
     "data": {
      "text/html": [
       "<div>\n",
       "<style scoped>\n",
       "    .dataframe tbody tr th:only-of-type {\n",
       "        vertical-align: middle;\n",
       "    }\n",
       "\n",
       "    .dataframe tbody tr th {\n",
       "        vertical-align: top;\n",
       "    }\n",
       "\n",
       "    .dataframe thead th {\n",
       "        text-align: right;\n",
       "    }\n",
       "</style>\n",
       "<table border=\"1\" class=\"dataframe\">\n",
       "  <thead>\n",
       "    <tr style=\"text-align: right;\">\n",
       "      <th></th>\n",
       "      <th>xmin</th>\n",
       "      <th>ymin</th>\n",
       "      <th>xmax</th>\n",
       "      <th>ymax</th>\n",
       "      <th>confidence</th>\n",
       "      <th>class</th>\n",
       "      <th>name</th>\n",
       "    </tr>\n",
       "  </thead>\n",
       "  <tbody>\n",
       "    <tr>\n",
       "      <th>0</th>\n",
       "      <td>739.629028</td>\n",
       "      <td>327.879822</td>\n",
       "      <td>812.395264</td>\n",
       "      <td>390.335632</td>\n",
       "      <td>0.380425</td>\n",
       "      <td>1</td>\n",
       "      <td>fire</td>\n",
       "    </tr>\n",
       "    <tr>\n",
       "      <th>1</th>\n",
       "      <td>618.551025</td>\n",
       "      <td>281.388275</td>\n",
       "      <td>817.478638</td>\n",
       "      <td>389.741119</td>\n",
       "      <td>0.356873</td>\n",
       "      <td>1</td>\n",
       "      <td>fire</td>\n",
       "    </tr>\n",
       "  </tbody>\n",
       "</table>\n",
       "</div>"
      ],
      "text/plain": [
       "         xmin        ymin        xmax        ymax  confidence  class  name\n",
       "0  739.629028  327.879822  812.395264  390.335632    0.380425      1  fire\n",
       "1  618.551025  281.388275  817.478638  389.741119    0.356873      1  fire"
      ]
     },
     "execution_count": 3,
     "metadata": {},
     "output_type": "execute_result"
    }
   ],
   "source": [
    "\n",
    "# Model\n",
    "model = torch.hub.load('ultralytics/yolov5', 'custom', path=PRETRAINED_MODEL_LOCATION)\n",
    "\n",
    "# Images\n",
    "im1 = Image.open(TEST_IMAGE_LOCATION)  # PIL image\n",
    "im2 = cv2.imread(TEST_IMAGE_LOCATION)[..., ::-1]  # OpenCV image (BGR to RGB)\n",
    "\n",
    "# Inference\n",
    "results = model([im1, im2], size=640)  # batch of images\n",
    "\n",
    "# Results\n",
    "results.print()\n",
    "results.save()  # or .show()\n",
    "\n",
    "results.xyxy[0]  # im1 predictions (tensor)\n",
    "results.pandas().xyxy[0]  # im1 predictions (pandas)"
   ]
  },
  {
   "cell_type": "markdown",
   "metadata": {},
   "source": []
  },
  {
   "cell_type": "code",
   "execution_count": 4,
   "metadata": {},
   "outputs": [],
   "source": [
    "test = results.pandas().xyxy[0].to_dict() "
   ]
  }
 ],
 "metadata": {
  "kernelspec": {
   "display_name": ".venv",
   "language": "python",
   "name": "python3"
  },
  "language_info": {
   "codemirror_mode": {
    "name": "ipython",
    "version": 3
   },
   "file_extension": ".py",
   "mimetype": "text/x-python",
   "name": "python",
   "nbconvert_exporter": "python",
   "pygments_lexer": "ipython3",
   "version": "3.10.12"
  }
 },
 "nbformat": 4,
 "nbformat_minor": 2
}
