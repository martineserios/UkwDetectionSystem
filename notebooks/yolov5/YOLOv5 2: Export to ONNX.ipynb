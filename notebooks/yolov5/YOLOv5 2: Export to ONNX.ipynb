{
 "cells": [
  {
   "cell_type": "markdown",
   "metadata": {},
   "source": [
    "# YOLOv5 3: Export to ONNX"
   ]
  },
  {
   "cell_type": "code",
   "execution_count": 1,
   "metadata": {},
   "outputs": [],
   "source": [
    "%load_ext autoreload\n",
    "%autoreload 2\n",
    "\n",
    "import os\n",
    "import glob as glob\n",
    "import matplotlib.pyplot as plt\n",
    "import numpy as np\n",
    "import torch\n",
    "import cv2\n",
    "\n",
    "np.random.seed(42)"
   ]
  },
  {
   "cell_type": "code",
   "execution_count": 8,
   "metadata": {},
   "outputs": [
    {
     "data": {
      "text/plain": [
       "'/home/martin/Projects/ongoing/ukw/ukw/wildfire-detector/model/yolov5_freeze_ds_fire_3_pre/best.onnx'"
      ]
     },
     "execution_count": 8,
     "metadata": {},
     "output_type": "execute_result"
    }
   ],
   "source": [
    "PRETRAINED_MODEL_LOCATION = '/home/martin/Projects/ongoing/ukw/ukw/wildfire-detector/model/yolov5_freeze_ds_fire_3_pre/best.pt'\n",
    "NEW_ONNX_MODEL_LOCATION = '/'.join(PRETRAINED_MODEL_LOCATION.split('/')[:-1]) + '/best.onnx'\n",
    "\n",
    "NEW_ONNX_MODEL_LOCATION"
   ]
  },
  {
   "cell_type": "code",
   "execution_count": 9,
   "metadata": {},
   "outputs": [
    {
     "name": "stdout",
     "output_type": "stream",
     "text": [
      "\u001b[34m\u001b[1mexport: \u001b[0mdata=yolov5/data/coco128.yaml, weights=['/home/martin/Projects/ongoing/ukw/ukw/wildfire-detector/model/yolov5_freeze_ds_fire_3_pre/best.pt'], imgsz=[640, 640], batch_size=1, device=cpu, half=False, inplace=False, keras=False, optimize=False, int8=False, per_tensor=False, dynamic=False, simplify=False, opset=17, verbose=False, workspace=4, nms=False, agnostic_nms=False, topk_per_class=100, topk_all=100, iou_thres=0.45, conf_thres=0.25, include=['onnx']\n",
      "YOLOv5 🚀 v7.0-307-g920c721e Python-3.10.12 torch-2.2.2+cu121 CPU\n",
      "\n",
      "Fusing layers... \n",
      "Model summary: 157 layers, 7015519 parameters, 0 gradients, 15.8 GFLOPs\n",
      "\n",
      "\u001b[34m\u001b[1mPyTorch:\u001b[0m starting from /home/martin/Projects/ongoing/ukw/ukw/wildfire-detector/model/yolov5_freeze_ds_fire_3_pre/best.pt with output shape (1, 25200, 7) (13.8 MB)\n",
      "\n",
      "\u001b[34m\u001b[1mONNX:\u001b[0m starting export with onnx 1.16.0...\n",
      "\u001b[34m\u001b[1mONNX:\u001b[0m export success ✅ 1.9s, saved as /home/martin/Projects/ongoing/ukw/ukw/wildfire-detector/model/yolov5_freeze_ds_fire_3_pre/best.onnx (27.2 MB)\n",
      "\n",
      "Export complete (3.3s)\n",
      "Results saved to \u001b[1m/home/martin/Projects/ongoing/ukw/ukw/wildfire-detector/model/yolov5_freeze_ds_fire_3_pre\u001b[0m\n",
      "Detect:          python detect.py --weights /home/martin/Projects/ongoing/ukw/ukw/wildfire-detector/model/yolov5_freeze_ds_fire_3_pre/best.onnx \n",
      "Validate:        python val.py --weights /home/martin/Projects/ongoing/ukw/ukw/wildfire-detector/model/yolov5_freeze_ds_fire_3_pre/best.onnx \n",
      "PyTorch Hub:     model = torch.hub.load('ultralytics/yolov5', 'custom', '/home/martin/Projects/ongoing/ukw/ukw/wildfire-detector/model/yolov5_freeze_ds_fire_3_pre/best.onnx')  \n",
      "Visualize:       https://netron.app\n"
     ]
    }
   ],
   "source": [
    "# Clone YOLOV5 Repository\n",
    "if not os.path.exists('yolov5'):\n",
    "    !git clone https://github.com/ultralytics/yolov5.git\n",
    "\n",
    "# Export to onnx\n",
    "!python3 yolov5/export.py --weights {PRETRAINED_MODEL_LOCATION} --include onnx"
   ]
  },
  {
   "cell_type": "code",
   "execution_count": 10,
   "metadata": {},
   "outputs": [
    {
     "name": "stderr",
     "output_type": "stream",
     "text": [
      "Using cache found in /home/martin/.cache/torch/hub/ultralytics_yolov5_master\n",
      "YOLOv5 🚀 2024-5-4 Python-3.10.12 torch-2.2.2+cu121 CPU\n",
      "\n",
      "Loading /home/martin/Projects/ongoing/ukw/ukw/wildfire-detector/model/yolov5_freeze_ds_fire_3_pre/best.onnx for ONNX Runtime inference...\n",
      "Adding AutoShape... \n",
      "Using cache found in /home/martin/.cache/torch/hub/ultralytics_yolov5_master\n",
      "YOLOv5 🚀 2024-5-4 Python-3.10.12 torch-2.2.2+cu121 CPU\n",
      "\n",
      "Loading /home/martin/Projects/ongoing/ukw/ukw/wildfire-detector/model/yolov5_freeze_ds_fire_3_pre/best.onnx for ONNX Runtime inference...\n",
      "Adding AutoShape... \n"
     ]
    }
   ],
   "source": [
    "model = torch.hub.load('ultralytics/yolov5', 'custom', NEW_ONNX_MODEL_LOCATION) \n",
    "model = torch.hub.load('ultralytics/yolov5', 'custom', NEW_ONNX_MODEL_LOCATION) "
   ]
  },
  {
   "cell_type": "code",
   "execution_count": 15,
   "metadata": {},
   "outputs": [],
   "source": [
    "TEST_IMAGE_LOCATION = '/home/martin/Projects/ongoing/ukw/data/test_images/test_def.jpeg'\n",
    "# Load test iamge\n",
    "img0 = cv2.imread(TEST_IMAGE_LOCATION)\n",
    "image = cv2.resize(img0, (640, 640))\n",
    "# image_bchw = np.transpose(np.expand_dims(image, 0), (0, 3, 1, 2))"
   ]
  },
  {
   "cell_type": "code",
   "execution_count": 16,
   "metadata": {},
   "outputs": [
    {
     "data": {
      "text/plain": [
       "YOLOv5 <class 'models.common.Detections'> instance\n",
       "image 1/1: 640x640 (no detections)\n",
       "Speed: 6.9ms pre-process, 205.7ms inference, 0.7ms NMS per image at shape (1, 3, 640, 640)"
      ]
     },
     "execution_count": 16,
     "metadata": {},
     "output_type": "execute_result"
    }
   ],
   "source": [
    "# Prediction\n",
    "\n",
    "model(image)"
   ]
  },
  {
   "cell_type": "code",
   "execution_count": null,
   "metadata": {},
   "outputs": [],
   "source": []
  }
 ],
 "metadata": {
  "kernelspec": {
   "display_name": ".venv",
   "language": "python",
   "name": "python3"
  },
  "language_info": {
   "codemirror_mode": {
    "name": "ipython",
    "version": 3
   },
   "file_extension": ".py",
   "mimetype": "text/x-python",
   "name": "python",
   "nbconvert_exporter": "python",
   "pygments_lexer": "ipython3",
   "version": "3.10.12"
  }
 },
 "nbformat": 4,
 "nbformat_minor": 2
}
