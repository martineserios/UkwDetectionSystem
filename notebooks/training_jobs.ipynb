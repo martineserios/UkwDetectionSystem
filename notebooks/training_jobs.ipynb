{
 "cells": [
  {
   "cell_type": "markdown",
   "id": "00b7ba7b-433c-463c-8e5e-8b975a5be463",
   "metadata": {
    "tags": []
   },
   "source": [
    "# BUILDER Wildifre detection system | UKW"
   ]
  },
  {
   "cell_type": "code",
   "execution_count": null,
   "id": "4b2265b0",
   "metadata": {
    "tags": [
     "hide-cell"
    ]
   },
   "outputs": [],
   "source": [
    "%load_ext autoreload\n",
    "%autoreload 2\n",
    "%load_ext dotenv\n",
    "%dotenv\n",
    "\n",
    "\n",
    "# load packages\n",
    "import json\n",
    "import logging\n",
    "import sys\n",
    "import sys\n",
    "from pathlib import Path\n",
    "from uuid import uuid4\n",
    "from pathlib import Path\n",
    "from dotenv import load_dotenv\n",
    "import os\n",
    "import boto3\n",
    "from botocore.exceptions import ClientError\n",
    "import sagemaker\n",
    "import boto3\n",
    "from functools import wraps\n",
    "\n",
    "# Set up logging\n",
    "logger = logging.getLogger(__name__)\n",
    "logging.basicConfig(level=logging.INFO)"
   ]
  },
  {
   "cell_type": "markdown",
   "id": "2f4ad52e",
   "metadata": {},
   "source": [
    "## Utilities"
   ]
  },
  {
   "cell_type": "code",
   "execution_count": null,
   "id": "aaffddcb",
   "metadata": {},
   "outputs": [],
   "source": [
    "load_dotenv()\n",
    "\n",
    "LOCAL_MODE = False\n",
    "\n",
    "CODE_FOLDER = Path(os.getcwd()).parent.absolute() / 'infrastructure' / 'system_files'\n",
    "sys.path.extend([CODE_FOLDER])\n",
    "\n",
    "\n",
    "CLIENT = os.environ[\"CLIENT\"]\n",
    "PROJECT = os.environ[\"PROJECT\"]\n",
    "CLIENT_PROJECT_PAIR = f\"{CLIENT}-{PROJECT}\"\n",
    "\n",
    "AWS_USER_NAME = f\"{CLIENT_PROJECT_PAIR}-PrincipalDeveloper\"\n",
    "AWS_ROLE_NAME= f'{CLIENT_PROJECT_PAIR}-sagemaker-develoepr'\n",
    "AWS_ROLE_ARN = 'arn:aws:iam::654654140928:role/AI_FTP_smoke_wildfire-AI_FTP-smoke_wildfire-sagemaker-develoepr'\n",
    "AWS_ROLE_ARN = os.environ[\"AWS_ROLE_ARN\"]\n",
    "AWS_ACCESS_KEY_ID = os.environ[\"AWS_ACCESS_KEY_ID\"]\n",
    "AWS_SECRET_ACCESS_KEY = os.environ[\"AWS_SECRET_ACCESS_KEY\"]\n",
    "AWS_REGION = os.environ[\"AWS_REGION\"]\n",
    "\n",
    "CAMERA_NAME = \"collon_cura\"\n",
    "\n",
    "RTSP_IP = os.environ['RTSP_IP']\n",
    "RTSP_PORT = os.environ['RTSP_PORT']\n",
    "RTSP_USER = os.environ['RTSP_USER']\n",
    "RTSP_PASS = os.environ['RTSP_PASS']\n",
    "RTSP_URL=f\"rtsp://{RTSP_USER}:{RTSP_PASS}@{RTSP_IP}:{RTSP_PORT}/h264/ch1/main/av_stream\"\n",
    "\n",
    "\n",
    "BUCKET = f\"{CLIENT}_{PROJECT}\"\n",
    "BUCKET = \"ukw-wildfire-projects\"\n",
    "PROJECT_S3_LOCATION = f\"s3://{BUCKET}/wildfire-detector\"\n",
    "MODEL_S3_LOCATION = f'{PROJECT_S3_LOCATION}/{PROJECT}/model/latest/inference_model.tar.gz'\n",
    "MODEL_S3_LOCATION = 's3://ukw-wildfire-projects/wildfire-detector/model/latest/inference_model.tar.gz'\n",
    "POSITIVE_INFERENCE_BUCKET = f'{CLIENT}_{PROJECT}_{CAMERA_NAME}_positive_predictions'\n",
    "SAMPLING_BUCKET = f'{CLIENT}_{PROJECT}_{CAMERA_NAME}_sampling'\n",
    "\n",
    "\n",
    "PROCESSING_IMAGE_NAME = f\"{CLIENT}-{PROJECT}-processing\"\n",
    "PROCESSING_IMAGE_NAME_LOWER = PROCESSING_IMAGE_NAME.lower()\n",
    "MODEL_DEPLOYMENT_IMAGE_NAME = \"yolov5-wildifire-model\"\n",
    "MODEL_DEPLOYMENT_IMAGE_NAME = f\"{CLIENT}-{PROJECT}-model-deployment\"\n",
    "MODEL_DEPLOYMENT_IMAGE_NAME_LOWER = MODEL_DEPLOYMENT_IMAGE_NAME.lower()\n",
    "\n",
    "# MODIFY\n",
    "MODEL_VERSION = 'smokeab'\n",
    "\n",
    "DATASET_VERSION = 'full_v3_smoke_ab'\n",
    "## \n",
    "MODEL_TRAINING_IMAGE_NAME = 'from'\n",
    "MODEL_TRAINING_IMAGE_NAME = f\"{CLIENT}-{PROJECT}-model-training-{MODEL_TRAINING_IMAGE_NAME}\"\n",
    "MODEL_TRAINING_IMAGE_NAME_LOWER = MODEL_TRAINING_IMAGE_NAME.lower()\n",
    "\n",
    "\n",
    "ENDPOINT_NAME = f\"YOLO-V5-DEPLOYMENT\" #-{random.randint(0,1000)}\"\n",
    "ENDPOINT_NAME = f\"{CLIENT}-{PROJECT}-model\" #-{random.randint(0,1000)}\"\n",
    "\n",
    "DYNAMO_TABLE = f'{CLIENT}-{PROJECT}-{CAMERA_NAME}-positive-predictions'\n"
   ]
  },
  {
   "cell_type": "markdown",
   "id": "4abf51be",
   "metadata": {},
   "source": [
    "## Sagmaker configuration"
   ]
  },
  {
   "cell_type": "code",
   "execution_count": null,
   "id": "6dbf97aa",
   "metadata": {},
   "outputs": [],
   "source": [
    "# By default, The SageMaker SDK logs events related to the default\n",
    "# configuration using the INFO level. To prevent these from spoiling\n",
    "# the output of this notebook cells, we can change the logging\n",
    "# level to ERROR instead.\n",
    "logging.getLogger(\"sagemaker.config\").setLevel(logging.ERROR)\n",
    "\n",
    "\n",
    "\n",
    "LOCAL_MODE = False\n",
    "\n",
    "\n",
    "sagemaker_session = sagemaker.session.Session()\n",
    "region = boto3.Session().region_name\n",
    "sagemaker_client = boto3.client(\"sagemaker\")\n",
    "iam_client = boto3.client(\"iam\")\n",
    "\n",
    "\n",
    "# # We can retrieve the architecture of the local\n",
    "# # computer using the `uname -m` command.\n",
    "architecture = !(uname -m)\n",
    "IS_ARM64_ARCHITECTURE = architecture[0] == \"arm64\""
   ]
  },
  {
   "cell_type": "markdown",
   "id": "3556dccd",
   "metadata": {},
   "source": [
    "#### Caching Configuration"
   ]
  },
  {
   "cell_type": "code",
   "execution_count": null,
   "id": "c856ac63",
   "metadata": {},
   "outputs": [],
   "source": [
    "from sagemaker.workflow.steps import CacheConfig\n",
    "\n",
    "cache_config = CacheConfig(enable_caching=True, expire_after=\"15d\")"
   ]
  },
  {
   "cell_type": "markdown",
   "id": "78ccbaac",
   "metadata": {},
   "source": [
    "#### Pipeline Configuration"
   ]
  },
  {
   "cell_type": "code",
   "execution_count": null,
   "id": "f0575367",
   "metadata": {},
   "outputs": [],
   "source": [
    "from sagemaker.workflow.parameters import ParameterString\n",
    "from sagemaker.workflow.pipeline_definition_config import PipelineDefinitionConfig\n",
    "\n",
    "pipeline_definition_config = PipelineDefinitionConfig(use_custom_job_prefix=True)\n",
    "\n",
    "dataset_location = ParameterString(\n",
    "    name=\"dataset_location\",\n",
    "    default_value=PROJECT_S3_LOCATION,\n",
    ")"
   ]
  },
  {
   "cell_type": "markdown",
   "id": "7ee5b0f7",
   "metadata": {},
   "source": [
    "Se define una configuración para Sagemaker que depende si se corre en LOCAL_MODE o no. INcluyre los recursos.\n"
   ]
  },
  {
   "cell_type": "code",
   "execution_count": null,
   "id": "6aa06b50",
   "metadata": {},
   "outputs": [],
   "source": [
    "from sagemaker.workflow.pipeline_context import LocalPipelineSession, PipelineSession\n",
    "\n",
    "pipeline_session = PipelineSession(default_bucket=BUCKET) if not LOCAL_MODE else None\n",
    "\n",
    "if LOCAL_MODE:\n",
    "    config = {\n",
    "        'processing':\n",
    "            {\n",
    "                \"session\": LocalPipelineSession(default_bucket=BUCKET),\n",
    "                \"instance_type\": \"local\",\n",
    "                # We need to use a custom Docker image when we run the pipeline\n",
    "                # in Local Model on an ARM64 machine.\n",
    "                \"image\": (\n",
    "                    \"sagemaker-tensorflow-toolkit-local\" if IS_ARM64_ARCHITECTURE else None\n",
    "                ),\n",
    "                \"py_version\" : \"py310\"\n",
    "            },\n",
    "        'training':\n",
    "            {\n",
    "                \"session\": LocalPipelineSession(default_bucket=BUCKET),\n",
    "                \"instance_type\": \"local\",\n",
    "                # We need to use a custom Docker image when we run the pipeline\n",
    "                # in Local Model on an ARM64 machine.\n",
    "                \"image\": (\n",
    "                    \"sagemaker-tensorflow-toolkit-local\" if IS_ARM64_ARCHITECTURE else None\n",
    "                ),\n",
    "                \"py_version\" : \"py310\"\n",
    "            },\n",
    "    }\n",
    "else:\n",
    "    config = {\n",
    "        'processing':\n",
    "            {\n",
    "                \"session\": pipeline_session,\n",
    "                \"instance_type\": \"ml.t3.medium\",\n",
    "                \"instance_count\":1,\n",
    "                \"image\": None,\n",
    "                \"py_version\" : \"py310\",\n",
    "                \"role\": AWS_ROLE_ARN\n",
    "            },\n",
    "        'training':\n",
    "            {\n",
    "                \"session\": pipeline_session,\n",
    "                \"instance_type\": \"ml.g4dn.xlarge\",\n",
    "                \"instance_count\":1,\n",
    "                \"image\": None,\n",
    "                \"py_version\" : \"py310\",\n",
    "                \"role\": AWS_ROLE_ARN\n",
    "            },\n",
    "    }"
   ]
  },
  {
   "cell_type": "markdown",
   "id": "10c6b23b",
   "metadata": {},
   "source": [
    "### Sagemaker"
   ]
  },
  {
   "cell_type": "markdown",
   "id": "22cc15e2",
   "metadata": {},
   "source": [
    "#### Training Step"
   ]
  },
  {
   "cell_type": "markdown",
   "id": "3324616d",
   "metadata": {},
   "source": [
    "##### scripts\n"
   ]
  },
  {
   "cell_type": "code",
   "execution_count": null,
   "id": "8b9f8cce",
   "metadata": {
    "tags": []
   },
   "outputs": [],
   "source": [
    "%%writefile {CODE_FOLDER}/containers/training/config/resourceconfig.json\n",
    "{\n",
    "    \"current_host\": \"algo-1\",\n",
    "    \"hosts\": [\"algo-1\",\"algo-2\",\"algo-3\"],\n",
    "    \"network_interface_name\":\"eth1\"\n",
    "}\n"
   ]
  },
  {
   "cell_type": "code",
   "execution_count": null,
   "id": "85567539",
   "metadata": {
    "tags": []
   },
   "outputs": [],
   "source": [
    "%%writefile {CODE_FOLDER}/containers/training/config/hyp.finetune.yaml\n",
    "\n",
    "# Hyperparameters for VOC finetuning\n",
    "# python train.py --batch 64 --weights yolov5m.pt --data VOC.yaml --img 512 --epochs 50\n",
    "# See tutorials for hyperparameter evolution https://github.com/ultralytics/yolov5#tutorials\n",
    "\n",
    "\n",
    "# Hyperparameter Evolution Results\n",
    "# Generations: 306\n",
    "#                   P         R     mAP.5 mAP.5:.95       box       obj       cls\n",
    "# Metrics:        0.6     0.936     0.896     0.684    0.0115   0.00805   0.00146\n",
    "\n",
    "lr0: 0.0032\n",
    "lrf: 0.12\n",
    "momentum: 0.843\n",
    "weight_decay: 0.00036\n",
    "warmup_epochs: 2.0\n",
    "warmup_momentum: 0.5\n",
    "warmup_bias_lr: 0.05\n",
    "box: 0.0296\n",
    "cls: 0.243\n",
    "cls_pw: 0.631\n",
    "obj: 0.301\n",
    "obj_pw: 0.911\n",
    "iou_t: 0.2\n",
    "anchor_t: 2.91\n",
    "# anchors: 3.63\n",
    "fl_gamma: 0.0\n",
    "hsv_h: 0.0138\n",
    "hsv_s: 0.664\n",
    "hsv_v: 0.464\n",
    "degrees: 0.373\n",
    "translate: 0.245\n",
    "scale: 0.898\n",
    "shear: 0.602\n",
    "perspective: 0.0\n",
    "flipud: 0.00856\n",
    "fliplr: 0.5\n",
    "mosaic: 1.0\n",
    "mixup: 0.243\n",
    "copy_paste: 0.0\n"
   ]
  },
  {
   "cell_type": "code",
   "execution_count": null,
   "id": "7e36c943",
   "metadata": {
    "tags": []
   },
   "outputs": [],
   "source": [
    "# %%writefile {CODE_FOLDER}/containers/training/config/data.yaml\n",
    "# test: /opt/ml/input/data/training/test/images\n",
    "# train: /opt/ml/input/data/training/train/images\n",
    "# val: /opt/ml/input/data/training/valid/images\n",
    "\n",
    "# nc: 9\n",
    "# names:\n",
    "#   - 'Fire-D'\n",
    "#   - 'Fire-N'\n",
    "#   - 'Smoke-0'\n",
    "#   - 'Smoke-1'\n",
    "#   - 'Smoke-2'\n",
    "#   - 'Smoke-3'\n",
    "#   - 'Smoke-C1'\n",
    "#   - 'Smoke-C2'\n",
    "#   - 'Smoke-N'"
   ]
  },
  {
   "cell_type": "code",
   "execution_count": null,
   "id": "f42495cd",
   "metadata": {},
   "outputs": [],
   "source": [
    "%%writefile {CODE_FOLDER}/containers/training/config/data.yaml\n",
    "test: /opt/ml/input/data/training/test/images\n",
    "train: /opt/ml/input/data/training/train/images\n",
    "val: /opt/ml/input/data/training/valid/images\n",
    "\n",
    "nc: 11\n",
    "names:\n",
    "- 'Fire-D'\n",
    "- 'Fire-N'\n",
    "- 'Humo-0.5'\n",
    "- 'Humo-2.5'\n",
    "- 'Smoke-0'\n",
    "- 'Smoke-1'\n",
    "- 'Smoke-2'\n",
    "- 'Smoke-3'\n",
    "- 'Smoke-C1'\n",
    "- 'Smoke-C2'\n",
    "- 'Smoke-N'"
   ]
  },
  {
   "cell_type": "code",
   "execution_count": null,
   "id": "e507129b",
   "metadata": {},
   "outputs": [],
   "source": [
    "%%writefile {CODE_FOLDER}/containers/training/config/data.yaml\n",
    "test: /opt/ml/input/data/training/test/images\n",
    "train: /opt/ml/input/data/training/train/images\n",
    "val: /opt/ml/input/data/training/valid/images\n",
    "\n",
    "nc: 3\n",
    "names: ['Fire', 'Smoke-A', 'Smoke-B']"
   ]
  },
  {
   "cell_type": "code",
   "execution_count": null,
   "id": "aaf9176a",
   "metadata": {
    "tags": []
   },
   "outputs": [],
   "source": [
    "%%writefile {CODE_FOLDER}/containers/training/config/train-args.json\n",
    "{\n",
    "   \"FP_DATA\": \"/opt/ml/code/config/data.yaml\",\n",
    "   # \"FP_YOLO\": \"/opt/ml/input/train_data/config/yolov5s.yaml\",\n",
    "   # \"FP_HYP\": \"/opt/ml/input/train_data/config/hyp.finetune.yaml\",    \n",
    "   \"FP_WEIGHT\": \"yolov5s.pt\",\n",
    "   \"NAME\": \"wildfire-detector-model\",\n",
    "   \"IMG_SIZE\": \"640\",\n",
    "   \"EPOCHS\": \"35\",\n",
    "   \"BATCH\": \"32\"\n",
    "}"
   ]
  },
  {
   "cell_type": "code",
   "execution_count": null,
   "id": "3c2f6bb7-1806-4db9-bc29-5fe9f13f492e",
   "metadata": {
    "tags": []
   },
   "outputs": [],
   "source": [
    "%%writefile {CODE_FOLDER}/containers/training/train\n",
    "# FP_PARA=/opt/ml/code/config/train-args.json\n",
    "# data=$(cat $FP_PARA | jq -r '.FP_DATA')\n",
    "# # yolo=$(cat $FP_PARA | jq -r '.FP_YOLO')\n",
    "# weight=$(cat $FP_PARA | jq -r '.FP_WEIGHT')\n",
    "# # hyp=$(cat $FP_PARA | jq -r '.FP_HYP')\n",
    "# img=$(cat $FP_PARA | jq -r '.IMG_SIZE')\n",
    "# batch=$(cat $FP_PARA | jq -r '.BATCH')\n",
    "# epochs=$(cat $FP_PARA | jq -r '.EPOCHS')\n",
    "# name=$(cat $FP_PARA | jq -r '.NAME')\n",
    "# echo 'data:'\n",
    "# echo $data\n",
    "# echo $yolo\n",
    "# echo $weight\n",
    "\n",
    "echo training\n",
    "ls /opt/ml/input/data/training\n",
    "echo valid\n",
    "ls /opt/ml/input/data/training/valid/\n",
    "\n",
    "\n",
    "python /opt/ml/code/yolov5/train.py --weights /opt/ml/input/data/training/best.pt --img 640 --epochs 35 --batch-size 32 --data /opt/ml/input/data/training/data.yaml --name wildfire-model\n",
    "cp -r /opt/ml/code/yolov5/runs/train/wildfire-model /opt/ml/model/"
   ]
  },
  {
   "cell_type": "markdown",
   "id": "f887b526",
   "metadata": {},
   "source": [
    "##### requirements"
   ]
  },
  {
   "cell_type": "code",
   "execution_count": null,
   "id": "0ae2960d",
   "metadata": {
    "tags": []
   },
   "outputs": [],
   "source": [
    "%%writefile {CODE_FOLDER}/containers/training/requirements.txt\n",
    "# | filename: requirements.txt\n",
    "# | code-line-numbers: true\n",
    "\n",
    "# sagemaker-training\n",
    "comet-ml\n",
    "matplotlib\n",
    "numpy\n",
    "opencv-python\n",
    "pillow\n",
    "psutil\n",
    "PyYAML\n",
    "requests\n",
    "scipy\n",
    "thop\n",
    "torch\n",
    "torchvision\n",
    "tqdm\n",
    "shutil\n",
    "# ultralytics\n"
   ]
  },
  {
   "cell_type": "code",
   "execution_count": null,
   "id": "7318b9e8",
   "metadata": {
    "tags": []
   },
   "outputs": [],
   "source": [
    "%%writefile {CODE_FOLDER}/containers/training/start_with_right_hostname.sh\n",
    "#!/usr/bin/env bash\n",
    "\n",
    "if [[ \"$1\" = \"train\" ]]; then\n",
    "     CURRENT_HOST=$(jq .current_host  /opt/ml/input/config/resourceconfig.json)\n",
    "     sed -ie \"s/PLACEHOLDER_HOSTNAME/$CURRENT_HOST/g\" changehostname.c\n",
    "     gcc -o changehostname.o -c -fPIC -Wall changehostname.c\n",
    "     gcc -o libchangehostname.so -shared -export-dynamic changehostname.o -ldl\n",
    "     LD_PRELOAD=/opt/ml/code/libchangehostname.so train\n",
    "else\n",
    "     eval \"$@\"\n",
    "fi"
   ]
  },
  {
   "cell_type": "code",
   "execution_count": null,
   "id": "9ad38cfc",
   "metadata": {
    "tags": []
   },
   "outputs": [],
   "source": [
    "%%writefile {CODE_FOLDER}/containers/training/changehostname.c\n",
    "#include <stdio.h>#include <stdio.h>\n",
    "#include <string.h>\n",
    "/*\n",
    " * Modifies gethostname to return algo-1, algo-2, etc. when running on SageMaker.\n",
    " *\n",
    " * Without this gethostname() on SageMaker returns 'aws', leading NCCL/MPI to think there is only one host,\n",
    " * not realizing that it needs to use NET/Socket.\n",
    " *\n",
    " * When docker container starts we read 'current_host' value  from /opt/ml/input/train_data/config/resourceconfig.json\n",
    " * and replace PLACEHOLDER_HOSTNAME with it before compiling this code into a shared library.\n",
    " */\n",
    "int gethostname(char *name, size_t len)\n",
    "{\n",
    "  const char *val = PLACEHOLDER_HOSTNAME;\n",
    "  strncpy(name, val, len);\n",
    "  return 0;\n",
    "}\n",
    "#include <string.h>\n",
    "\n",
    "/*\n",
    " * Modifies gethostname to return algo-1, algo-2, etc. when running on SageMaker.\n",
    " *\n",
    " * Without this gethostname() on SageMaker returns 'aws', leading NCCL/MPI to think there is only one host,\n",
    " * not realizing that it needs to use NET/Socket.\n",
    " *\n",
    " * When docker container starts we read 'current_host' value  from /opt/ml/input/config/resourceconfig.json\n",
    " * and replace PLACEHOLDER_HOSTNAME with it before compiling this code into a shared library.\n",
    " */\n",
    "int gethostname(char *name, size_t len)\n",
    "{\n",
    "  const char *val = PLACEHOLDER_HOSTNAME;\n",
    "  strncpy(name, val, len);\n",
    "  return 0;\n",
    "}"
   ]
  },
  {
   "cell_type": "markdown",
   "id": "26b45696",
   "metadata": {},
   "source": [
    "##### Dockerfile"
   ]
  },
  {
   "cell_type": "code",
   "execution_count": null,
   "id": "51936e82-caa2-4571-a0e9-3bd18709eba2",
   "metadata": {
    "tags": []
   },
   "outputs": [],
   "source": [
    "%%writefile {CODE_FOLDER}/containers/training/Dockerfile\n",
    "\n",
    "FROM 763104351884.dkr.ecr.us-east-1.amazonaws.com/pytorch-training:2.2.0-gpu-py310-cu121-ubuntu20.04-sagemaker as base\n",
    "\n",
    "RUN apt-get update \\\n",
    " && apt-get install -y --no-install-recommends --allow-unauthenticated \\\n",
    "    jq git gcc libgl1-mesa-dev wget gsutil libglib2.0-0\n",
    "\n",
    "## fix /usr/local/cuda-10.0/compat/libcuda.so\n",
    "## RUN bash -c 'echo \"/usr/local/cuda-10.0/compat\" > /etc/ld.so.conf.d/cuda.conf'\n",
    "RUN ldconfig -v\n",
    "RUN pip install tensorboard torch torchvision --upgrade\n",
    "\n",
    "\n",
    "FROM base as yolo\n",
    "\n",
    "# /opt/ml and all subdirectories are utilized by SageMaker, we use the /code subdirectory to store our user code.\n",
    "WORKDIR /opt/ml/code\n",
    "\n",
    "ENV PATH=\"/opt/ml/code:${PATH}\"\n",
    "\n",
    "RUN git clone https://github.com/ultralytics/yolov5\n",
    "RUN pip install -r yolov5/requirements.txt\n",
    "\n",
    "\n",
    "FROM yolo as training\n",
    "\n",
    "COPY train /opt/ml/code\n",
    "\n",
    "ADD . /opt/ml/code\n",
    "# COPY input/data.yaml /opt/ml/data.yaml\n",
    "# COPY input/config/train_arguments.json /opt/ml/input/train_arguments.json\n",
    "\n",
    "COPY changehostname.c /opt/ml/code/changehostname.c\n",
    "COPY start_with_right_hostname.sh /usr/local/bin/start_with_right_hostname.sh\n",
    "\n",
    "RUN chmod 777 -R /opt/ml\n",
    "\n",
    "\n",
    "WORKDIR /opt/ml/code/\n",
    "\n",
    "# this environment variable is used by the SageMaker PyTorch container to determine our user code directory.\n",
    "ENV SAGEMAKER_SUBMIT_DIRECTORY /opt/ml/code\n",
    "\n",
    "# this environment variable is used by the SageMaker PyTorch container to determine our program entry point\n",
    "# for training and serving.\n",
    "# For more information: https://github.com/aws/sagemaker-pytorch-container\n",
    "ENV SAGEMAKER_PROGRAM train"
   ]
  },
  {
   "cell_type": "code",
   "execution_count": null,
   "id": "daa58b87",
   "metadata": {
    "tags": []
   },
   "outputs": [],
   "source": [
    "# login to AWS DLC\n",
    "!aws ecr get-login-password --region us-east-1 | docker login --username AWS --password-stdin 763104351884.dkr.ecr.us-east-1.amazonaws.com\n",
    "\n",
    "if not LOCAL_MODE:\n",
    "    # If we aren't running the code in Local Mode, we need\n",
    "    # to specify we want to build the Docker image for the\n",
    "    # linux/amd64 architecture before uploading it to ECR.\n",
    "    print(\"Building Docker image for linux/amd64 architecture...\")\n",
    "    \n",
    "    !docker build --platform=\"linux/amd64\" -t $MODEL_TRAINING_IMAGE_NAME_LOWER \\\n",
    "        $CODE_FOLDER/containers/training/ \n",
    "else:\n",
    "    # If we are running in Local Mode, we can use the\n",
    "    # default Docker build command.\n",
    "    print(\"Building Docker image for arm64 architecture...\")\n",
    "\n",
    "    !docker build -t $MODEL_TRAINING_IMAGE_NAME_LOWER \\\n",
    "        $CODE_FOLDER/containers/training/ "
   ]
  },
  {
   "cell_type": "markdown",
   "id": "7916d4e9",
   "metadata": {
    "tags": []
   },
   "source": [
    "##### docker image"
   ]
  },
  {
   "cell_type": "code",
   "execution_count": null,
   "id": "8df0ccfc",
   "metadata": {},
   "outputs": [],
   "source": [
    "# CAMBIAR VERSION !!!!!!!!!!!\n",
    "print(MODEL_VERSION)\n",
    "print(MODEL_TRAINING_IMAGE_NAME)\n",
    "print(DATASET_VERSION)\n"
   ]
  },
  {
   "cell_type": "code",
   "execution_count": null,
   "id": "2cb31c1b",
   "metadata": {
    "tags": []
   },
   "outputs": [],
   "source": [
    "%%bash -s \"False\" \"ai-ftp-smoke-wildfire-model-training-from\"\n",
    "# | eval: false\n",
    "\n",
    "algorithm_name=$2\n",
    "account=$(aws sts get-caller-identity --query Account --output text)\n",
    "\n",
    "# Get the region defined in the current configuration\n",
    "# (default to us-east-1 if none defined)\n",
    "region=$(aws configure get region)\n",
    "region=${region:-us-east-1}\n",
    "\n",
    "repository=\"${account}.dkr.ecr.${region}.amazonaws.com/${algorithm_name}:latest\"\n",
    "\n",
    "echo $1\n",
    "echo $2\n",
    "echo ${repository}\n",
    "\n",
    "# We only want to push the Docker image to ECR if\n",
    "# we are not running in Local Mode.\n",
    "if [ $1 = \"False\" ]\n",
    "then\n",
    "    # Create the repository if it doesn't exist in ECR\n",
    "    aws ecr describe-repositories \\\n",
    "        --repository-names \"${algorithm_name}\" > /dev/null 2>&1\n",
    "    if [ $? -ne 0 ]\n",
    "    then\n",
    "        aws ecr create-repository \\\n",
    "            --repository-name \"${algorithm_name}\" > /dev/null\n",
    "    fi\n",
    "\n",
    "    # Get the login command from ECR to run the\n",
    "    # Docker push command.\n",
    "    aws ecr get-login-password \\\n",
    "        --region ${region}|docker \\\n",
    "        login --username AWS --password-stdin ${repository}\n",
    "        \n",
    "    # Push the Docker image to the ECR repository\n",
    "    docker tag ${algorithm_name} ${repository}\n",
    "    docker push ${repository}\n",
    "fi"
   ]
  },
  {
   "cell_type": "code",
   "execution_count": null,
   "id": "aa22d378",
   "metadata": {
    "tags": []
   },
   "outputs": [],
   "source": [
    "account_id = boto3.client(\"sts\").get_caller_identity().get(\"Account\")\n",
    "tag = \":latest\"\n",
    "\n",
    "uri_suffix = \"amazonaws.com\"\n",
    "if AWS_REGION in [\"cn-north-1\", \"cn-northwest-1\"]:\n",
    "    uri_suffix = \"amazonaws.com.cn\"\n",
    "\n",
    "training_container_image = (\n",
    "    MODEL_TRAINING_IMAGE_NAME_LOWER\n",
    "    if LOCAL_MODE\n",
    "    else (f\"{account_id}.dkr.ecr.{AWS_REGION}.amazonaws.com/{MODEL_TRAINING_IMAGE_NAME_LOWER}:latest\")\n",
    ")\n",
    "\n",
    "training_container_image"
   ]
  },
  {
   "cell_type": "markdown",
   "id": "db032a7c",
   "metadata": {},
   "source": [
    "##### Sagemaker estimator"
   ]
  },
  {
   "cell_type": "code",
   "execution_count": null,
   "id": "d8cf6d5b",
   "metadata": {},
   "outputs": [],
   "source": [
    "from sagemaker.estimator import Estimator\n",
    "\n",
    "\n",
    "# inputs = {\n",
    "#     \"cfg\": TrainingInput(cfg),\n",
    "#     \"images\": TrainingInput(images),\n",
    "#     \"weights\": TrainingInput(weights),\n",
    "#     \"labels\": TrainingInput(labels),\n",
    "# }\n",
    "\n",
    "estimator = Estimator(\n",
    "    image_uri=training_container_image,\n",
    "    role=config['training']['role'],\n",
    "    instance_count=config['training']['instance_count'],\n",
    "    instance_type=config['training']['instance_type'],\n",
    "    input_mode='File',\n",
    "    output_path=f\"{PROJECT_S3_LOCATION}/model/\",\n",
    "    base_job_name=f\"{CLIENT}-{PROJECT}-{MODEL_VERSION}\"\n",
    ")"
   ]
  },
  {
   "cell_type": "markdown",
   "id": "70030a26",
   "metadata": {},
   "source": [
    "##### Sagemaker step"
   ]
  },
  {
   "cell_type": "code",
   "execution_count": null,
   "id": "e7d0b2ba",
   "metadata": {},
   "outputs": [],
   "source": [
    "from sagemaker.inputs import TrainingInput\n",
    "from sagemaker.workflow.steps import TrainingStep\n",
    "\n",
    "inputs = {\n",
    "    'training': TrainingInput(\n",
    "        s3_data=f\"{PROJECT_S3_LOCATION}/input/data/dataset_agg/{DATASET_VERSION}/\", #processing_step_pre.properties.ProcessingOutputConfig.Outputs[\"data\"].S3Output.S3Uri,\n",
    "    )\n",
    "}\n",
    "\n",
    "training_step = TrainingStep(\n",
    "    name=f\"{CLIENT}-{PROJECT}-{MODEL_VERSION}\",\n",
    "    estimator=estimator,\n",
    "    inputs=inputs,\n",
    "    # outputs=outputs\n",
    "    # cache_config=cache_config,\n",
    ")\n",
    "\n"
   ]
  },
  {
   "cell_type": "code",
   "execution_count": null,
   "id": "d370973a-5a56-4d0b-b8b8-5b1df5f75755",
   "metadata": {
    "tags": []
   },
   "outputs": [],
   "source": [
    "# training_step.estimator.fit(inputs)"
   ]
  },
  {
   "cell_type": "markdown",
   "id": "6c26e92c",
   "metadata": {},
   "source": [
    "### Build training Pipeline"
   ]
  },
  {
   "cell_type": "code",
   "execution_count": null,
   "id": "ccba8b30",
   "metadata": {
    "tags": []
   },
   "outputs": [],
   "source": [
    "from sagemaker.workflow.pipeline import Pipeline\n",
    "\n",
    "model_pipeline = Pipeline(\n",
    "    name=f\"{CLIENT}-{PROJECT}-{MODEL_VERSION}\",\n",
    "    parameters=[dataset_location],\n",
    "    steps=[\n",
    "        # processing_step_pre,\n",
    "        training_step,\n",
    "    ],\n",
    "    pipeline_definition_config=pipeline_definition_config,\n",
    "    # sagemaker_session=config[\"session\"],\n",
    ")"
   ]
  },
  {
   "cell_type": "code",
   "execution_count": null,
   "id": "f5f0451d",
   "metadata": {
    "tags": []
   },
   "outputs": [],
   "source": [
    "if LOCAL_MODE == False:\n",
    "    model_pipeline.upsert(role_arn=AWS_ROLE_ARN)"
   ]
  },
  {
   "cell_type": "code",
   "execution_count": null,
   "id": "c049b9b4",
   "metadata": {
    "tags": []
   },
   "outputs": [],
   "source": [
    "model_pipeline.start()"
   ]
  },
  {
   "cell_type": "code",
   "execution_count": null,
   "id": "5cc083c4",
   "metadata": {
    "tags": []
   },
   "outputs": [],
   "source": [
    "model_pipeline.list_executions()"
   ]
  },
  {
   "cell_type": "code",
   "execution_count": null,
   "id": "314e5a9e",
   "metadata": {},
   "outputs": [],
   "source": []
  }
 ],
 "metadata": {
  "availableInstances": [
   {
    "_defaultOrder": 0,
    "_isFastLaunch": true,
    "category": "General purpose",
    "gpuNum": 0,
    "hideHardwareSpecs": false,
    "memoryGiB": 4,
    "name": "ml.t3.medium",
    "vcpuNum": 2
   },
   {
    "_defaultOrder": 1,
    "_isFastLaunch": false,
    "category": "General purpose",
    "gpuNum": 0,
    "hideHardwareSpecs": false,
    "memoryGiB": 8,
    "name": "ml.t3.large",
    "vcpuNum": 2
   },
   {
    "_defaultOrder": 2,
    "_isFastLaunch": false,
    "category": "General purpose",
    "gpuNum": 0,
    "hideHardwareSpecs": false,
    "memoryGiB": 16,
    "name": "ml.t3.xlarge",
    "vcpuNum": 4
   },
   {
    "_defaultOrder": 3,
    "_isFastLaunch": false,
    "category": "General purpose",
    "gpuNum": 0,
    "hideHardwareSpecs": false,
    "memoryGiB": 32,
    "name": "ml.t3.2xlarge",
    "vcpuNum": 8
   },
   {
    "_defaultOrder": 4,
    "_isFastLaunch": true,
    "category": "General purpose",
    "gpuNum": 0,
    "hideHardwareSpecs": false,
    "memoryGiB": 8,
    "name": "ml.m5.large",
    "vcpuNum": 2
   },
   {
    "_defaultOrder": 5,
    "_isFastLaunch": false,
    "category": "General purpose",
    "gpuNum": 0,
    "hideHardwareSpecs": false,
    "memoryGiB": 16,
    "name": "ml.m5.xlarge",
    "vcpuNum": 4
   },
   {
    "_defaultOrder": 6,
    "_isFastLaunch": false,
    "category": "General purpose",
    "gpuNum": 0,
    "hideHardwareSpecs": false,
    "memoryGiB": 32,
    "name": "ml.m5.2xlarge",
    "vcpuNum": 8
   },
   {
    "_defaultOrder": 7,
    "_isFastLaunch": false,
    "category": "General purpose",
    "gpuNum": 0,
    "hideHardwareSpecs": false,
    "memoryGiB": 64,
    "name": "ml.m5.4xlarge",
    "vcpuNum": 16
   },
   {
    "_defaultOrder": 8,
    "_isFastLaunch": false,
    "category": "General purpose",
    "gpuNum": 0,
    "hideHardwareSpecs": false,
    "memoryGiB": 128,
    "name": "ml.m5.8xlarge",
    "vcpuNum": 32
   },
   {
    "_defaultOrder": 9,
    "_isFastLaunch": false,
    "category": "General purpose",
    "gpuNum": 0,
    "hideHardwareSpecs": false,
    "memoryGiB": 192,
    "name": "ml.m5.12xlarge",
    "vcpuNum": 48
   },
   {
    "_defaultOrder": 10,
    "_isFastLaunch": false,
    "category": "General purpose",
    "gpuNum": 0,
    "hideHardwareSpecs": false,
    "memoryGiB": 256,
    "name": "ml.m5.16xlarge",
    "vcpuNum": 64
   },
   {
    "_defaultOrder": 11,
    "_isFastLaunch": false,
    "category": "General purpose",
    "gpuNum": 0,
    "hideHardwareSpecs": false,
    "memoryGiB": 384,
    "name": "ml.m5.24xlarge",
    "vcpuNum": 96
   },
   {
    "_defaultOrder": 12,
    "_isFastLaunch": false,
    "category": "General purpose",
    "gpuNum": 0,
    "hideHardwareSpecs": false,
    "memoryGiB": 8,
    "name": "ml.m5d.large",
    "vcpuNum": 2
   },
   {
    "_defaultOrder": 13,
    "_isFastLaunch": false,
    "category": "General purpose",
    "gpuNum": 0,
    "hideHardwareSpecs": false,
    "memoryGiB": 16,
    "name": "ml.m5d.xlarge",
    "vcpuNum": 4
   },
   {
    "_defaultOrder": 14,
    "_isFastLaunch": false,
    "category": "General purpose",
    "gpuNum": 0,
    "hideHardwareSpecs": false,
    "memoryGiB": 32,
    "name": "ml.m5d.2xlarge",
    "vcpuNum": 8
   },
   {
    "_defaultOrder": 15,
    "_isFastLaunch": false,
    "category": "General purpose",
    "gpuNum": 0,
    "hideHardwareSpecs": false,
    "memoryGiB": 64,
    "name": "ml.m5d.4xlarge",
    "vcpuNum": 16
   },
   {
    "_defaultOrder": 16,
    "_isFastLaunch": false,
    "category": "General purpose",
    "gpuNum": 0,
    "hideHardwareSpecs": false,
    "memoryGiB": 128,
    "name": "ml.m5d.8xlarge",
    "vcpuNum": 32
   },
   {
    "_defaultOrder": 17,
    "_isFastLaunch": false,
    "category": "General purpose",
    "gpuNum": 0,
    "hideHardwareSpecs": false,
    "memoryGiB": 192,
    "name": "ml.m5d.12xlarge",
    "vcpuNum": 48
   },
   {
    "_defaultOrder": 18,
    "_isFastLaunch": false,
    "category": "General purpose",
    "gpuNum": 0,
    "hideHardwareSpecs": false,
    "memoryGiB": 256,
    "name": "ml.m5d.16xlarge",
    "vcpuNum": 64
   },
   {
    "_defaultOrder": 19,
    "_isFastLaunch": false,
    "category": "General purpose",
    "gpuNum": 0,
    "hideHardwareSpecs": false,
    "memoryGiB": 384,
    "name": "ml.m5d.24xlarge",
    "vcpuNum": 96
   },
   {
    "_defaultOrder": 20,
    "_isFastLaunch": false,
    "category": "General purpose",
    "gpuNum": 0,
    "hideHardwareSpecs": true,
    "memoryGiB": 0,
    "name": "ml.geospatial.interactive",
    "supportedImageNames": [
     "sagemaker-geospatial-v1-0"
    ],
    "vcpuNum": 0
   },
   {
    "_defaultOrder": 21,
    "_isFastLaunch": true,
    "category": "Compute optimized",
    "gpuNum": 0,
    "hideHardwareSpecs": false,
    "memoryGiB": 4,
    "name": "ml.c5.large",
    "vcpuNum": 2
   },
   {
    "_defaultOrder": 22,
    "_isFastLaunch": false,
    "category": "Compute optimized",
    "gpuNum": 0,
    "hideHardwareSpecs": false,
    "memoryGiB": 8,
    "name": "ml.c5.xlarge",
    "vcpuNum": 4
   },
   {
    "_defaultOrder": 23,
    "_isFastLaunch": false,
    "category": "Compute optimized",
    "gpuNum": 0,
    "hideHardwareSpecs": false,
    "memoryGiB": 16,
    "name": "ml.c5.2xlarge",
    "vcpuNum": 8
   },
   {
    "_defaultOrder": 24,
    "_isFastLaunch": false,
    "category": "Compute optimized",
    "gpuNum": 0,
    "hideHardwareSpecs": false,
    "memoryGiB": 32,
    "name": "ml.c5.4xlarge",
    "vcpuNum": 16
   },
   {
    "_defaultOrder": 25,
    "_isFastLaunch": false,
    "category": "Compute optimized",
    "gpuNum": 0,
    "hideHardwareSpecs": false,
    "memoryGiB": 72,
    "name": "ml.c5.9xlarge",
    "vcpuNum": 36
   },
   {
    "_defaultOrder": 26,
    "_isFastLaunch": false,
    "category": "Compute optimized",
    "gpuNum": 0,
    "hideHardwareSpecs": false,
    "memoryGiB": 96,
    "name": "ml.c5.12xlarge",
    "vcpuNum": 48
   },
   {
    "_defaultOrder": 27,
    "_isFastLaunch": false,
    "category": "Compute optimized",
    "gpuNum": 0,
    "hideHardwareSpecs": false,
    "memoryGiB": 144,
    "name": "ml.c5.18xlarge",
    "vcpuNum": 72
   },
   {
    "_defaultOrder": 28,
    "_isFastLaunch": false,
    "category": "Compute optimized",
    "gpuNum": 0,
    "hideHardwareSpecs": false,
    "memoryGiB": 192,
    "name": "ml.c5.24xlarge",
    "vcpuNum": 96
   },
   {
    "_defaultOrder": 29,
    "_isFastLaunch": true,
    "category": "Accelerated computing",
    "gpuNum": 1,
    "hideHardwareSpecs": false,
    "memoryGiB": 16,
    "name": "ml.g4dn.xlarge",
    "vcpuNum": 4
   },
   {
    "_defaultOrder": 30,
    "_isFastLaunch": false,
    "category": "Accelerated computing",
    "gpuNum": 1,
    "hideHardwareSpecs": false,
    "memoryGiB": 32,
    "name": "ml.g4dn.2xlarge",
    "vcpuNum": 8
   },
   {
    "_defaultOrder": 31,
    "_isFastLaunch": false,
    "category": "Accelerated computing",
    "gpuNum": 1,
    "hideHardwareSpecs": false,
    "memoryGiB": 64,
    "name": "ml.g4dn.4xlarge",
    "vcpuNum": 16
   },
   {
    "_defaultOrder": 32,
    "_isFastLaunch": false,
    "category": "Accelerated computing",
    "gpuNum": 1,
    "hideHardwareSpecs": false,
    "memoryGiB": 128,
    "name": "ml.g4dn.8xlarge",
    "vcpuNum": 32
   },
   {
    "_defaultOrder": 33,
    "_isFastLaunch": false,
    "category": "Accelerated computing",
    "gpuNum": 4,
    "hideHardwareSpecs": false,
    "memoryGiB": 192,
    "name": "ml.g4dn.12xlarge",
    "vcpuNum": 48
   },
   {
    "_defaultOrder": 34,
    "_isFastLaunch": false,
    "category": "Accelerated computing",
    "gpuNum": 1,
    "hideHardwareSpecs": false,
    "memoryGiB": 256,
    "name": "ml.g4dn.16xlarge",
    "vcpuNum": 64
   },
   {
    "_defaultOrder": 35,
    "_isFastLaunch": false,
    "category": "Accelerated computing",
    "gpuNum": 1,
    "hideHardwareSpecs": false,
    "memoryGiB": 61,
    "name": "ml.p3.2xlarge",
    "vcpuNum": 8
   },
   {
    "_defaultOrder": 36,
    "_isFastLaunch": false,
    "category": "Accelerated computing",
    "gpuNum": 4,
    "hideHardwareSpecs": false,
    "memoryGiB": 244,
    "name": "ml.p3.8xlarge",
    "vcpuNum": 32
   },
   {
    "_defaultOrder": 37,
    "_isFastLaunch": false,
    "category": "Accelerated computing",
    "gpuNum": 8,
    "hideHardwareSpecs": false,
    "memoryGiB": 488,
    "name": "ml.p3.16xlarge",
    "vcpuNum": 64
   },
   {
    "_defaultOrder": 38,
    "_isFastLaunch": false,
    "category": "Accelerated computing",
    "gpuNum": 8,
    "hideHardwareSpecs": false,
    "memoryGiB": 768,
    "name": "ml.p3dn.24xlarge",
    "vcpuNum": 96
   },
   {
    "_defaultOrder": 39,
    "_isFastLaunch": false,
    "category": "Memory Optimized",
    "gpuNum": 0,
    "hideHardwareSpecs": false,
    "memoryGiB": 16,
    "name": "ml.r5.large",
    "vcpuNum": 2
   },
   {
    "_defaultOrder": 40,
    "_isFastLaunch": false,
    "category": "Memory Optimized",
    "gpuNum": 0,
    "hideHardwareSpecs": false,
    "memoryGiB": 32,
    "name": "ml.r5.xlarge",
    "vcpuNum": 4
   },
   {
    "_defaultOrder": 41,
    "_isFastLaunch": false,
    "category": "Memory Optimized",
    "gpuNum": 0,
    "hideHardwareSpecs": false,
    "memoryGiB": 64,
    "name": "ml.r5.2xlarge",
    "vcpuNum": 8
   },
   {
    "_defaultOrder": 42,
    "_isFastLaunch": false,
    "category": "Memory Optimized",
    "gpuNum": 0,
    "hideHardwareSpecs": false,
    "memoryGiB": 128,
    "name": "ml.r5.4xlarge",
    "vcpuNum": 16
   },
   {
    "_defaultOrder": 43,
    "_isFastLaunch": false,
    "category": "Memory Optimized",
    "gpuNum": 0,
    "hideHardwareSpecs": false,
    "memoryGiB": 256,
    "name": "ml.r5.8xlarge",
    "vcpuNum": 32
   },
   {
    "_defaultOrder": 44,
    "_isFastLaunch": false,
    "category": "Memory Optimized",
    "gpuNum": 0,
    "hideHardwareSpecs": false,
    "memoryGiB": 384,
    "name": "ml.r5.12xlarge",
    "vcpuNum": 48
   },
   {
    "_defaultOrder": 45,
    "_isFastLaunch": false,
    "category": "Memory Optimized",
    "gpuNum": 0,
    "hideHardwareSpecs": false,
    "memoryGiB": 512,
    "name": "ml.r5.16xlarge",
    "vcpuNum": 64
   },
   {
    "_defaultOrder": 46,
    "_isFastLaunch": false,
    "category": "Memory Optimized",
    "gpuNum": 0,
    "hideHardwareSpecs": false,
    "memoryGiB": 768,
    "name": "ml.r5.24xlarge",
    "vcpuNum": 96
   },
   {
    "_defaultOrder": 47,
    "_isFastLaunch": false,
    "category": "Accelerated computing",
    "gpuNum": 1,
    "hideHardwareSpecs": false,
    "memoryGiB": 16,
    "name": "ml.g5.xlarge",
    "vcpuNum": 4
   },
   {
    "_defaultOrder": 48,
    "_isFastLaunch": false,
    "category": "Accelerated computing",
    "gpuNum": 1,
    "hideHardwareSpecs": false,
    "memoryGiB": 32,
    "name": "ml.g5.2xlarge",
    "vcpuNum": 8
   },
   {
    "_defaultOrder": 49,
    "_isFastLaunch": false,
    "category": "Accelerated computing",
    "gpuNum": 1,
    "hideHardwareSpecs": false,
    "memoryGiB": 64,
    "name": "ml.g5.4xlarge",
    "vcpuNum": 16
   },
   {
    "_defaultOrder": 50,
    "_isFastLaunch": false,
    "category": "Accelerated computing",
    "gpuNum": 1,
    "hideHardwareSpecs": false,
    "memoryGiB": 128,
    "name": "ml.g5.8xlarge",
    "vcpuNum": 32
   },
   {
    "_defaultOrder": 51,
    "_isFastLaunch": false,
    "category": "Accelerated computing",
    "gpuNum": 1,
    "hideHardwareSpecs": false,
    "memoryGiB": 256,
    "name": "ml.g5.16xlarge",
    "vcpuNum": 64
   },
   {
    "_defaultOrder": 52,
    "_isFastLaunch": false,
    "category": "Accelerated computing",
    "gpuNum": 4,
    "hideHardwareSpecs": false,
    "memoryGiB": 192,
    "name": "ml.g5.12xlarge",
    "vcpuNum": 48
   },
   {
    "_defaultOrder": 53,
    "_isFastLaunch": false,
    "category": "Accelerated computing",
    "gpuNum": 4,
    "hideHardwareSpecs": false,
    "memoryGiB": 384,
    "name": "ml.g5.24xlarge",
    "vcpuNum": 96
   },
   {
    "_defaultOrder": 54,
    "_isFastLaunch": false,
    "category": "Accelerated computing",
    "gpuNum": 8,
    "hideHardwareSpecs": false,
    "memoryGiB": 768,
    "name": "ml.g5.48xlarge",
    "vcpuNum": 192
   },
   {
    "_defaultOrder": 55,
    "_isFastLaunch": false,
    "category": "Accelerated computing",
    "gpuNum": 8,
    "hideHardwareSpecs": false,
    "memoryGiB": 1152,
    "name": "ml.p4d.24xlarge",
    "vcpuNum": 96
   },
   {
    "_defaultOrder": 56,
    "_isFastLaunch": false,
    "category": "Accelerated computing",
    "gpuNum": 8,
    "hideHardwareSpecs": false,
    "memoryGiB": 1152,
    "name": "ml.p4de.24xlarge",
    "vcpuNum": 96
   }
  ],
  "instance_type": "ml.t3.medium",
  "kernelspec": {
   "display_name": ".venv",
   "language": "python",
   "name": "python3"
  },
  "language_info": {
   "codemirror_mode": {
    "name": "ipython",
    "version": 3
   },
   "file_extension": ".py",
   "mimetype": "text/x-python",
   "name": "python",
   "nbconvert_exporter": "python",
   "pygments_lexer": "ipython3",
   "version": "3.10.12"
  },
  "lcc_arn": "arn:aws:sagemaker:us-east-1:325223348818:studio-lifecycle-config/packages",
  "toc-autonumbering": false,
  "toc-showcode": false,
  "toc-showmarkdowntxt": false
 },
 "nbformat": 4,
 "nbformat_minor": 5
}
