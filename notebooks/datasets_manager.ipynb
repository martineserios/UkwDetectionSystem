{
 "cells": [
  {
   "cell_type": "code",
   "execution_count": 11,
   "metadata": {},
   "outputs": [
    {
     "name": "stdout",
     "output_type": "stream",
     "text": [
      "The autoreload extension is already loaded. To reload it, use:\n",
      "  %reload_ext autoreload\n"
     ]
    }
   ],
   "source": [
    "# from dotenv import load_dotenv\n",
    "%load_ext autoreload\n",
    "%autoreload 2\n",
    "# %load_ext dotenv\n",
    "# %dotenv\n",
    "\n",
    "from pathlib import Path\n",
    "import sys\n",
    "\n",
    "# Get the path to the directory containing the scripts\n",
    "# iam_manager_package_dir = Path('iam_manager')\n",
    "# ec2_manager_package_dir = Path('ec2_manager')\n",
    "datasets_package_dir = Path('datasets')\n",
    "sys.path.insert(0, str(datasets_package_dir))"
   ]
  },
  {
   "cell_type": "code",
   "execution_count": 12,
   "metadata": {},
   "outputs": [],
   "source": [
    "import os\n",
    "import random\n",
    "random.seed(42)\n",
    "from multiprocessing import Pool\n",
    "from pathlib import Path\n",
    "\n",
    "from datasets import partition_dataset_by_n_parts, replace_first_char_in_files"
   ]
  },
  {
   "cell_type": "code",
   "execution_count": 13,
   "metadata": {},
   "outputs": [],
   "source": [
    "# variables\n",
    "DATASETS_PATH = Path('/home/martin/Projects/ongoing/ukw/ukw_detection_system/ukw_detection_system/wildfire_smoke/data/base')\n",
    "ORIGINAL_DATASET_PATH = DATASETS_PATH / 'total'\n",
    "\n",
    "SET_TYPES = [\"train\", \"valid\", \"test\"] \n",
    "SET_TYPES_RATIOS = [0.7, 0.25, 0.05]\n",
    "SET_TYPES_RATIOS_MAP = dict(zip(SET_TYPES, SET_TYPES_RATIOS))\n",
    "\n",
    "ELEMENTS = [\"images\", \"labels\"]\n",
    "\n",
    "DATASET_NAME = 'v2_3_partes'\n",
    "PARTITIONED_DATASET_PATH = DATASETS_PATH / DATASET_NAME\n",
    "N_PARTS = 3\n",
    "SIZE = 10000"
   ]
  },
  {
   "cell_type": "code",
   "execution_count": 14,
   "metadata": {},
   "outputs": [
    {
     "name": "stderr",
     "output_type": "stream",
     "text": [
      "\u001b[32m2024-06-27 16:37:52.150\u001b[0m | \u001b[1mINFO    \u001b[0m | \u001b[36mdatasets\u001b[0m:\u001b[36mpartition_dataset_by_n_parts\u001b[0m:\u001b[36m347\u001b[0m - \u001b[1mPartitioning dataset from /home/martin/Projects/ongoing/ukw/ukw_detection_system/ukw_detection_system/wildfire_smoke/data/base/total into 3 parts\u001b[0m\n",
      "\u001b[32m2024-06-27 16:37:52.152\u001b[0m | \u001b[1mINFO    \u001b[0m | \u001b[36mdatasets\u001b[0m:\u001b[36mget_images_labels\u001b[0m:\u001b[36m129\u001b[0m - \u001b[1mRetrieving image and label paths from /home/martin/Projects/ongoing/ukw/ukw_detection_system/ukw_detection_system/wildfire_smoke/data/base/total\u001b[0m\n",
      "\u001b[32m2024-06-27 16:37:52.152\u001b[0m | \u001b[1mINFO    \u001b[0m | \u001b[36mdatasets\u001b[0m:\u001b[36mget_dataset_paths_by_elements\u001b[0m:\u001b[36m106\u001b[0m - \u001b[1mRetrieving dataset paths by elements from /home/martin/Projects/ongoing/ukw/ukw_detection_system/ukw_detection_system/wildfire_smoke/data/base/total\u001b[0m\n",
      "\u001b[32m2024-06-27 16:37:52.471\u001b[0m | \u001b[1mINFO    \u001b[0m | \u001b[36mdatasets\u001b[0m:\u001b[36mbuild_dataset_structure\u001b[0m:\u001b[36m54\u001b[0m - \u001b[1mBuilding dataset structure with parts: 3, set_types: ['test', 'train', 'valid'], elements: ['images', 'labels']\u001b[0m\n",
      "\u001b[32m2024-06-27 16:37:52.471\u001b[0m | \u001b[1mINFO    \u001b[0m | \u001b[36mdatasets\u001b[0m:\u001b[36mbuild_dataset_structure_on_disk\u001b[0m:\u001b[36m73\u001b[0m - \u001b[1mCreating directory structure on disk at /home/martin/Projects/ongoing/ukw/ukw_detection_system/ukw_detection_system/wildfire_smoke/data/base/v2_3_partes\u001b[0m\n",
      "\u001b[32m2024-06-27 16:37:52.472\u001b[0m | \u001b[1mINFO    \u001b[0m | \u001b[36mdatasets\u001b[0m:\u001b[36mbuild_dataset_structure_on_disk\u001b[0m:\u001b[36m78\u001b[0m - \u001b[1mCouldn't remove dir /home/martin/Projects/ongoing/ukw/ukw_detection_system/ukw_detection_system/wildfire_smoke/data/base/v2_3_partes. No such file or directory\u001b[0m\n",
      "\u001b[32m2024-06-27 16:37:52.474\u001b[0m | \u001b[1mINFO    \u001b[0m | \u001b[36mdatasets\u001b[0m:\u001b[36mturn_parts_into_ratios\u001b[0m:\u001b[36m166\u001b[0m - \u001b[1mTurning 3 parts into ratios with precision 4\u001b[0m\n",
      "\u001b[32m2024-06-27 16:37:52.482\u001b[0m | \u001b[1mINFO    \u001b[0m | \u001b[36mdatasets\u001b[0m:\u001b[36mget_sublists_from_ratios\u001b[0m:\u001b[36m203\u001b[0m - \u001b[1mDivided list into 3 parts with ratios [0.3333, 0.3333, 0.3333]\u001b[0m\n",
      "\u001b[32m2024-06-27 16:37:52.483\u001b[0m | \u001b[1mINFO    \u001b[0m | \u001b[36mdatasets\u001b[0m:\u001b[36mget_sublists_from_named_parts\u001b[0m:\u001b[36m242\u001b[0m - \u001b[1mDividing list into named parts dict_keys(['train', 'valid', 'test']) with ratios [0.7, 0.25, 0.05]\u001b[0m\n",
      "\u001b[32m2024-06-27 16:37:52.487\u001b[0m | \u001b[1mINFO    \u001b[0m | \u001b[36mdatasets\u001b[0m:\u001b[36mget_sublists_from_ratios\u001b[0m:\u001b[36m203\u001b[0m - \u001b[1mDivided list into 3 parts with ratios [0.7, 0.25, 0.05]\u001b[0m\n",
      "\u001b[32m2024-06-27 16:37:52.488\u001b[0m | \u001b[1mINFO    \u001b[0m | \u001b[36mdatasets\u001b[0m:\u001b[36mwrite_files\u001b[0m:\u001b[36m321\u001b[0m - \u001b[1mWriting files to new dataset path at /home/martin/Projects/ongoing/ukw/ukw_detection_system/ukw_detection_system/wildfire_smoke/data/base/v2_3_partes\u001b[0m\n",
      "\u001b[32m2024-06-27 16:37:54.260\u001b[0m | \u001b[1mINFO    \u001b[0m | \u001b[36mdatasets\u001b[0m:\u001b[36mwrite_files\u001b[0m:\u001b[36m321\u001b[0m - \u001b[1mWriting files to new dataset path at /home/martin/Projects/ongoing/ukw/ukw_detection_system/ukw_detection_system/wildfire_smoke/data/base/v2_3_partes\u001b[0m\n",
      "\u001b[32m2024-06-27 16:37:54.978\u001b[0m | \u001b[1mINFO    \u001b[0m | \u001b[36mdatasets\u001b[0m:\u001b[36mwrite_files\u001b[0m:\u001b[36m321\u001b[0m - \u001b[1mWriting files to new dataset path at /home/martin/Projects/ongoing/ukw/ukw_detection_system/ukw_detection_system/wildfire_smoke/data/base/v2_3_partes\u001b[0m\n",
      "\u001b[32m2024-06-27 16:37:55.144\u001b[0m | \u001b[1mINFO    \u001b[0m | \u001b[36mdatasets\u001b[0m:\u001b[36mget_sublists_from_named_parts\u001b[0m:\u001b[36m242\u001b[0m - \u001b[1mDividing list into named parts dict_keys(['train', 'valid', 'test']) with ratios [0.7, 0.25, 0.05]\u001b[0m\n",
      "\u001b[32m2024-06-27 16:37:55.147\u001b[0m | \u001b[1mINFO    \u001b[0m | \u001b[36mdatasets\u001b[0m:\u001b[36mget_sublists_from_ratios\u001b[0m:\u001b[36m203\u001b[0m - \u001b[1mDivided list into 3 parts with ratios [0.7, 0.25, 0.05]\u001b[0m\n",
      "\u001b[32m2024-06-27 16:37:55.148\u001b[0m | \u001b[1mINFO    \u001b[0m | \u001b[36mdatasets\u001b[0m:\u001b[36mwrite_files\u001b[0m:\u001b[36m321\u001b[0m - \u001b[1mWriting files to new dataset path at /home/martin/Projects/ongoing/ukw/ukw_detection_system/ukw_detection_system/wildfire_smoke/data/base/v2_3_partes\u001b[0m\n",
      "\u001b[32m2024-06-27 16:37:57.321\u001b[0m | \u001b[1mINFO    \u001b[0m | \u001b[36mdatasets\u001b[0m:\u001b[36mwrite_files\u001b[0m:\u001b[36m321\u001b[0m - \u001b[1mWriting files to new dataset path at /home/martin/Projects/ongoing/ukw/ukw_detection_system/ukw_detection_system/wildfire_smoke/data/base/v2_3_partes\u001b[0m\n",
      "\u001b[32m2024-06-27 16:37:58.149\u001b[0m | \u001b[1mINFO    \u001b[0m | \u001b[36mdatasets\u001b[0m:\u001b[36mwrite_files\u001b[0m:\u001b[36m321\u001b[0m - \u001b[1mWriting files to new dataset path at /home/martin/Projects/ongoing/ukw/ukw_detection_system/ukw_detection_system/wildfire_smoke/data/base/v2_3_partes\u001b[0m\n",
      "\u001b[32m2024-06-27 16:37:58.317\u001b[0m | \u001b[1mINFO    \u001b[0m | \u001b[36mdatasets\u001b[0m:\u001b[36mget_sublists_from_named_parts\u001b[0m:\u001b[36m242\u001b[0m - \u001b[1mDividing list into named parts dict_keys(['train', 'valid', 'test']) with ratios [0.7, 0.25, 0.05]\u001b[0m\n",
      "\u001b[32m2024-06-27 16:37:58.321\u001b[0m | \u001b[1mINFO    \u001b[0m | \u001b[36mdatasets\u001b[0m:\u001b[36mget_sublists_from_ratios\u001b[0m:\u001b[36m203\u001b[0m - \u001b[1mDivided list into 3 parts with ratios [0.7, 0.25, 0.05]\u001b[0m\n",
      "\u001b[32m2024-06-27 16:37:58.322\u001b[0m | \u001b[1mINFO    \u001b[0m | \u001b[36mdatasets\u001b[0m:\u001b[36mwrite_files\u001b[0m:\u001b[36m321\u001b[0m - \u001b[1mWriting files to new dataset path at /home/martin/Projects/ongoing/ukw/ukw_detection_system/ukw_detection_system/wildfire_smoke/data/base/v2_3_partes\u001b[0m\n",
      "\u001b[32m2024-06-27 16:38:00.958\u001b[0m | \u001b[1mINFO    \u001b[0m | \u001b[36mdatasets\u001b[0m:\u001b[36mwrite_files\u001b[0m:\u001b[36m321\u001b[0m - \u001b[1mWriting files to new dataset path at /home/martin/Projects/ongoing/ukw/ukw_detection_system/ukw_detection_system/wildfire_smoke/data/base/v2_3_partes\u001b[0m\n",
      "\u001b[32m2024-06-27 16:38:01.934\u001b[0m | \u001b[1mINFO    \u001b[0m | \u001b[36mdatasets\u001b[0m:\u001b[36mwrite_files\u001b[0m:\u001b[36m321\u001b[0m - \u001b[1mWriting files to new dataset path at /home/martin/Projects/ongoing/ukw/ukw_detection_system/ukw_detection_system/wildfire_smoke/data/base/v2_3_partes\u001b[0m\n",
      "\u001b[32m2024-06-27 16:38:02.118\u001b[0m | \u001b[1mINFO    \u001b[0m | \u001b[36mdatasets\u001b[0m:\u001b[36mturn_parts_into_ratios\u001b[0m:\u001b[36m166\u001b[0m - \u001b[1mTurning 3 parts into ratios with precision 4\u001b[0m\n",
      "\u001b[32m2024-06-27 16:38:02.128\u001b[0m | \u001b[1mINFO    \u001b[0m | \u001b[36mdatasets\u001b[0m:\u001b[36mget_sublists_from_ratios\u001b[0m:\u001b[36m203\u001b[0m - \u001b[1mDivided list into 3 parts with ratios [0.3333, 0.3333, 0.3333]\u001b[0m\n",
      "\u001b[32m2024-06-27 16:38:02.128\u001b[0m | \u001b[1mINFO    \u001b[0m | \u001b[36mdatasets\u001b[0m:\u001b[36mget_sublists_from_named_parts\u001b[0m:\u001b[36m242\u001b[0m - \u001b[1mDividing list into named parts dict_keys(['train', 'valid', 'test']) with ratios [0.7, 0.25, 0.05]\u001b[0m\n",
      "\u001b[32m2024-06-27 16:38:02.131\u001b[0m | \u001b[1mINFO    \u001b[0m | \u001b[36mdatasets\u001b[0m:\u001b[36mget_sublists_from_ratios\u001b[0m:\u001b[36m203\u001b[0m - \u001b[1mDivided list into 3 parts with ratios [0.7, 0.25, 0.05]\u001b[0m\n",
      "\u001b[32m2024-06-27 16:38:02.131\u001b[0m | \u001b[1mINFO    \u001b[0m | \u001b[36mdatasets\u001b[0m:\u001b[36mwrite_files\u001b[0m:\u001b[36m321\u001b[0m - \u001b[1mWriting files to new dataset path at /home/martin/Projects/ongoing/ukw/ukw_detection_system/ukw_detection_system/wildfire_smoke/data/base/v2_3_partes\u001b[0m\n",
      "\u001b[32m2024-06-27 16:38:02.886\u001b[0m | \u001b[1mINFO    \u001b[0m | \u001b[36mdatasets\u001b[0m:\u001b[36mwrite_files\u001b[0m:\u001b[36m321\u001b[0m - \u001b[1mWriting files to new dataset path at /home/martin/Projects/ongoing/ukw/ukw_detection_system/ukw_detection_system/wildfire_smoke/data/base/v2_3_partes\u001b[0m\n",
      "\u001b[32m2024-06-27 16:38:03.165\u001b[0m | \u001b[1mINFO    \u001b[0m | \u001b[36mdatasets\u001b[0m:\u001b[36mwrite_files\u001b[0m:\u001b[36m321\u001b[0m - \u001b[1mWriting files to new dataset path at /home/martin/Projects/ongoing/ukw/ukw_detection_system/ukw_detection_system/wildfire_smoke/data/base/v2_3_partes\u001b[0m\n",
      "\u001b[32m2024-06-27 16:38:03.224\u001b[0m | \u001b[1mINFO    \u001b[0m | \u001b[36mdatasets\u001b[0m:\u001b[36mget_sublists_from_named_parts\u001b[0m:\u001b[36m242\u001b[0m - \u001b[1mDividing list into named parts dict_keys(['train', 'valid', 'test']) with ratios [0.7, 0.25, 0.05]\u001b[0m\n",
      "\u001b[32m2024-06-27 16:38:03.228\u001b[0m | \u001b[1mINFO    \u001b[0m | \u001b[36mdatasets\u001b[0m:\u001b[36mget_sublists_from_ratios\u001b[0m:\u001b[36m203\u001b[0m - \u001b[1mDivided list into 3 parts with ratios [0.7, 0.25, 0.05]\u001b[0m\n",
      "\u001b[32m2024-06-27 16:38:03.228\u001b[0m | \u001b[1mINFO    \u001b[0m | \u001b[36mdatasets\u001b[0m:\u001b[36mwrite_files\u001b[0m:\u001b[36m321\u001b[0m - \u001b[1mWriting files to new dataset path at /home/martin/Projects/ongoing/ukw/ukw_detection_system/ukw_detection_system/wildfire_smoke/data/base/v2_3_partes\u001b[0m\n",
      "\u001b[32m2024-06-27 16:38:03.967\u001b[0m | \u001b[1mINFO    \u001b[0m | \u001b[36mdatasets\u001b[0m:\u001b[36mwrite_files\u001b[0m:\u001b[36m321\u001b[0m - \u001b[1mWriting files to new dataset path at /home/martin/Projects/ongoing/ukw/ukw_detection_system/ukw_detection_system/wildfire_smoke/data/base/v2_3_partes\u001b[0m\n",
      "\u001b[32m2024-06-27 16:38:04.230\u001b[0m | \u001b[1mINFO    \u001b[0m | \u001b[36mdatasets\u001b[0m:\u001b[36mwrite_files\u001b[0m:\u001b[36m321\u001b[0m - \u001b[1mWriting files to new dataset path at /home/martin/Projects/ongoing/ukw/ukw_detection_system/ukw_detection_system/wildfire_smoke/data/base/v2_3_partes\u001b[0m\n",
      "\u001b[32m2024-06-27 16:38:04.284\u001b[0m | \u001b[1mINFO    \u001b[0m | \u001b[36mdatasets\u001b[0m:\u001b[36mget_sublists_from_named_parts\u001b[0m:\u001b[36m242\u001b[0m - \u001b[1mDividing list into named parts dict_keys(['train', 'valid', 'test']) with ratios [0.7, 0.25, 0.05]\u001b[0m\n",
      "\u001b[32m2024-06-27 16:38:04.289\u001b[0m | \u001b[1mINFO    \u001b[0m | \u001b[36mdatasets\u001b[0m:\u001b[36mget_sublists_from_ratios\u001b[0m:\u001b[36m203\u001b[0m - \u001b[1mDivided list into 3 parts with ratios [0.7, 0.25, 0.05]\u001b[0m\n",
      "\u001b[32m2024-06-27 16:38:04.290\u001b[0m | \u001b[1mINFO    \u001b[0m | \u001b[36mdatasets\u001b[0m:\u001b[36mwrite_files\u001b[0m:\u001b[36m321\u001b[0m - \u001b[1mWriting files to new dataset path at /home/martin/Projects/ongoing/ukw/ukw_detection_system/ukw_detection_system/wildfire_smoke/data/base/v2_3_partes\u001b[0m\n",
      "\u001b[32m2024-06-27 16:38:05.017\u001b[0m | \u001b[1mINFO    \u001b[0m | \u001b[36mdatasets\u001b[0m:\u001b[36mwrite_files\u001b[0m:\u001b[36m321\u001b[0m - \u001b[1mWriting files to new dataset path at /home/martin/Projects/ongoing/ukw/ukw_detection_system/ukw_detection_system/wildfire_smoke/data/base/v2_3_partes\u001b[0m\n",
      "\u001b[32m2024-06-27 16:38:05.278\u001b[0m | \u001b[1mINFO    \u001b[0m | \u001b[36mdatasets\u001b[0m:\u001b[36mwrite_files\u001b[0m:\u001b[36m321\u001b[0m - \u001b[1mWriting files to new dataset path at /home/martin/Projects/ongoing/ukw/ukw_detection_system/ukw_detection_system/wildfire_smoke/data/base/v2_3_partes\u001b[0m\n",
      "\u001b[32m2024-06-27 16:38:05.332\u001b[0m | \u001b[1mINFO    \u001b[0m | \u001b[36mdatasets\u001b[0m:\u001b[36mpartition_dataset_by_n_parts\u001b[0m:\u001b[36m366\u001b[0m - \u001b[1mDataset partitioning complete\u001b[0m\n"
     ]
    }
   ],
   "source": [
    "dataset = partition_dataset_by_n_parts(\n",
    "    ORIGINAL_DATASET_PATH, \n",
    "    N_PARTS, \n",
    "    SET_TYPES_RATIOS_MAP, \n",
    "    PARTITIONED_DATASET_PATH\n",
    ")\n",
    "\n",
    "# dataset"
   ]
  },
  {
   "cell_type": "code",
   "execution_count": 15,
   "metadata": {},
   "outputs": [
    {
     "name": "stdout",
     "output_type": "stream",
     "text": [
      "train_images:  6451\n",
      "valid_images:  2304\n",
      "test_images:  461\n"
     ]
    }
   ],
   "source": [
    "print('train_images: ', len(os.listdir(PARTITIONED_DATASET_PATH / '2' / 'train' / 'images')))\n",
    "print('valid_images: ', len(os.listdir(PARTITIONED_DATASET_PATH / '2' / 'valid' / 'images')))\n",
    "print('test_images: ', len(os.listdir(PARTITIONED_DATASET_PATH / '2' / 'test' / 'images')))"
   ]
  },
  {
   "cell_type": "code",
   "execution_count": 18,
   "metadata": {},
   "outputs": [],
   "source": [
    "replace_first_char_in_files(\"/home/martin/Projects/ongoing/ukw/ukw_detection_system/ukw_detection_system/wildfire_smoke/data/base/v1/wildfire-full/test/labels\")"
   ]
  },
  {
   "cell_type": "code",
   "execution_count": null,
   "metadata": {},
   "outputs": [],
   "source": []
  }
 ],
 "metadata": {
  "kernelspec": {
   "display_name": ".venv",
   "language": "python",
   "name": "python3"
  },
  "language_info": {
   "codemirror_mode": {
    "name": "ipython",
    "version": 3
   },
   "file_extension": ".py",
   "mimetype": "text/x-python",
   "name": "python",
   "nbconvert_exporter": "python",
   "pygments_lexer": "ipython3",
   "version": "3.10.12"
  }
 },
 "nbformat": 4,
 "nbformat_minor": 2
}
